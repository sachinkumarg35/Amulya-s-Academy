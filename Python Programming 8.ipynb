{
 "cells": [
  {
   "cell_type": "code",
   "execution_count": 1,
   "metadata": {},
   "outputs": [],
   "source": [
    "#Bubble sort"
   ]
  },
  {
   "cell_type": "code",
   "execution_count": 5,
   "metadata": {},
   "outputs": [
    {
     "name": "stdout",
     "output_type": "stream",
     "text": [
      "Unsorted list:  [10, 4, 15, 23, 0]\n",
      "sorted list:  [23, 15, 10, 4, 0]\n"
     ]
    }
   ],
   "source": [
    "list1 = [10, 4, 15, 23, 0]\n",
    "print(\"Unsorted list: \", list1)\n",
    "\n",
    "for j in range(len(list1) -1):\n",
    "    for i in range(len(list1) -1):\n",
    "        if list1[i] < list1[i+1]:\n",
    "            list1[i], list1[i+1] = list1[i+1], list1[i]\n",
    "        \n",
    "print(\"sorted list: \", list1)"
   ]
  },
  {
   "cell_type": "code",
   "execution_count": 7,
   "metadata": {},
   "outputs": [
    {
     "name": "stdout",
     "output_type": "stream",
     "text": [
      "Unsorted list:  [10, 4, 15, 23, 0]\n",
      "sorted list:  [0, 4, 10, 15, 23]\n"
     ]
    }
   ],
   "source": [
    "list1 = [10, 4, 15, 23, 0]\n",
    "print(\"Unsorted list: \", list1)\n",
    "\n",
    "for j in range(len(list1) -1):\n",
    "    for i in range(len(list1) -1):\n",
    "        if list1[i] > list1[i+1]:\n",
    "            list1[i], list1[i+1] = list1[i+1], list1[i]\n",
    "        \n",
    "print(\"sorted list: \", list1)"
   ]
  },
  {
   "cell_type": "code",
   "execution_count": 8,
   "metadata": {},
   "outputs": [
    {
     "name": "stdout",
     "output_type": "stream",
     "text": [
      "Unsorted list:  [10, 4, 15, 23, 0]\n",
      "[10, 4, 15, 23, 0]\n",
      "[10, 15, 4, 23, 0]\n",
      "[10, 15, 23, 4, 0]\n",
      "[10, 15, 23, 4, 0]\n",
      "[15, 10, 23, 4, 0]\n",
      "[15, 23, 10, 4, 0]\n",
      "[15, 23, 10, 4, 0]\n",
      "[15, 23, 10, 4, 0]\n",
      "[23, 15, 10, 4, 0]\n",
      "[23, 15, 10, 4, 0]\n",
      "[23, 15, 10, 4, 0]\n",
      "[23, 15, 10, 4, 0]\n",
      "[23, 15, 10, 4, 0]\n",
      "[23, 15, 10, 4, 0]\n",
      "[23, 15, 10, 4, 0]\n",
      "[23, 15, 10, 4, 0]\n",
      "sorted list:  [23, 15, 10, 4, 0]\n"
     ]
    }
   ],
   "source": [
    "list1 = [10, 4, 15, 23, 0]\n",
    "print(\"Unsorted list: \", list1)\n",
    "\n",
    "for j in range(len(list1) -1):\n",
    "    for i in range(len(list1) -1):\n",
    "        if list1[i] < list1[i+1]:\n",
    "            list1[i], list1[i+1] = list1[i+1], list1[i]\n",
    "            print(list1)\n",
    "        else:\n",
    "            print(list1)\n",
    "print(\"sorted list: \", list1)"
   ]
  },
  {
   "cell_type": "code",
   "execution_count": 9,
   "metadata": {},
   "outputs": [
    {
     "name": "stdout",
     "output_type": "stream",
     "text": [
      "Unsorted list:  [10, 4, 15, 23, 0]\n",
      "sorted list:  [23, 15, 10, 4, 0]\n"
     ]
    }
   ],
   "source": [
    "list1 = [10, 4, 15, 23, 0]\n",
    "print(\"Unsorted list: \", list1)\n",
    "\n",
    "for j in range(len(list1) -1):\n",
    "    for i in range(len(list1) -1-j):\n",
    "        if list1[i] < list1[i+1]:\n",
    "            list1[i], list1[i+1] = list1[i+1], list1[i]\n",
    "        \n",
    "print(\"sorted list: \", list1)"
   ]
  },
  {
   "cell_type": "code",
   "execution_count": 10,
   "metadata": {},
   "outputs": [
    {
     "name": "stdout",
     "output_type": "stream",
     "text": [
      "Unsorted list:  [10, 4, 15, 23, 0]\n",
      "sorted list:  [10, 4, 15, 23, 0]\n"
     ]
    }
   ],
   "source": [
    "list1 = [10, 4, 15, 23, 0]\n",
    "print(\"Unsorted list: \", list1)\n",
    "\n",
    "for j in range(len(list1) -1-j):\n",
    "    for i in range(j):\n",
    "        if list1[i] < list1[i+1]:\n",
    "            list1[i], list1[i+1] = list1[i+1], list1[i]\n",
    "        \n",
    "print(\"sorted list: \", list1)"
   ]
  },
  {
   "cell_type": "code",
   "execution_count": 12,
   "metadata": {},
   "outputs": [
    {
     "name": "stdout",
     "output_type": "stream",
     "text": [
      "How many numbers you want to enter: 5\n",
      "Enter values: \n",
      "2\n",
      "0\n",
      "-15\n",
      "6\n",
      "23\n",
      "Unsorted list:  [2, 0, -15, 6, 23]\n",
      "sorted list:  [23, 6, 2, 0, -15]\n"
     ]
    }
   ],
   "source": [
    "list1 = []\n",
    "num = int(input(\"How many numbers you want to enter: \"))\n",
    "print(\"Enter values: \")\n",
    "for k in range(num):\n",
    "    list1.append(int(input()))\n",
    "\n",
    "print(\"Unsorted list: \", list1)\n",
    "\n",
    "for j in range(len(list1) -1, 0, -1):\n",
    "    for i in range(j):\n",
    "        if list1[i] < list1[i+1]:\n",
    "            list1[i], list1[i+1] = list1[i+1], list1[i]\n",
    "        \n",
    "print(\"sorted list: \", list1)"
   ]
  },
  {
   "cell_type": "code",
   "execution_count": 4,
   "metadata": {},
   "outputs": [
    {
     "name": "stdout",
     "output_type": "stream",
     "text": [
      "[] False\n"
     ]
    }
   ],
   "source": [
    "#Python programs and answers\n",
    "x = []\n",
    "if x:\n",
    "    print(x, \"True\")\n",
    "else:\n",
    "    print(x, \"False\")"
   ]
  },
  {
   "cell_type": "code",
   "execution_count": 3,
   "metadata": {},
   "outputs": [
    {
     "name": "stdout",
     "output_type": "stream",
     "text": [
      "True\n"
     ]
    }
   ],
   "source": [
    "p = (0, 13)\n",
    "q = 0\n",
    "r = []\n",
    "if p or q and r:\n",
    "    print(\"True\")\n",
    "else:\n",
    "    print(\"False\")"
   ]
  },
  {
   "cell_type": "code",
   "execution_count": 5,
   "metadata": {},
   "outputs": [
    {
     "name": "stdout",
     "output_type": "stream",
     "text": [
      "['ABC', 'DEF', 'ghI']\n"
     ]
    }
   ],
   "source": [
    "list1 = [\"ABC\", \"DEF\", \"ghI\"]\n",
    "for i in list1:\n",
    "    i.lower()\n",
    "print(list1)"
   ]
  },
  {
   "cell_type": "code",
   "execution_count": 1,
   "metadata": {},
   "outputs": [
    {
     "name": "stdout",
     "output_type": "stream",
     "text": [
      "['ABC', 'DEF', 'ghI']\n",
      "['abc', 'def', 'ghi']\n"
     ]
    }
   ],
   "source": [
    "list1 = [\"ABC\", \"DEF\", \"ghI\"]\n",
    "list2 = []\n",
    "for i in list1:\n",
    "    x = i.lower()\n",
    "    list2.append(x)\n",
    "print(list1)\n",
    "print(list2)"
   ]
  },
  {
   "cell_type": "code",
   "execution_count": 1,
   "metadata": {},
   "outputs": [
    {
     "name": "stdout",
     "output_type": "stream",
     "text": [
      "1\n",
      "2\n",
      "3\n",
      "4\n"
     ]
    }
   ],
   "source": [
    "for i in range(1, 20):\n",
    "    if i == 5:\n",
    "        break\n",
    "    else:\n",
    "        print(i)\n",
    "else:\n",
    "    print(\"Hello\")"
   ]
  },
  {
   "cell_type": "code",
   "execution_count": 8,
   "metadata": {},
   "outputs": [
    {
     "name": "stdout",
     "output_type": "stream",
     "text": [
      "1\n",
      "2\n",
      "3\n",
      "4\n",
      "6\n",
      "7\n",
      "8\n",
      "9\n",
      "10\n",
      "11\n",
      "12\n",
      "13\n",
      "14\n",
      "15\n",
      "16\n",
      "17\n",
      "18\n",
      "19\n",
      "Hello\n"
     ]
    }
   ],
   "source": [
    "for i in range(1, 20):\n",
    "    if i == 5:\n",
    "        continue\n",
    "    else:\n",
    "        print(i)\n",
    "        \n",
    "else: \n",
    "    print(\"Hello\")"
   ]
  },
  {
   "cell_type": "code",
   "execution_count": 9,
   "metadata": {},
   "outputs": [
    {
     "name": "stdout",
     "output_type": "stream",
     "text": [
      "[['few', 'words']]\n",
      "['few', 'words']\n",
      "r\n"
     ]
    }
   ],
   "source": [
    "list1 = [\"These\", \"are\", \"a\", [\"few\", \"words\"], \"that\", \"we\", \"will\", \"use\"]\n",
    "print(list1[3:4])\n",
    "print(list1[3:4][0])\n",
    "print(list1[3:4][0][1][2])"
   ]
  },
  {
   "cell_type": "code",
   "execution_count": 1,
   "metadata": {},
   "outputs": [],
   "source": [
    "from turtle import*"
   ]
  },
  {
   "cell_type": "code",
   "execution_count": 5,
   "metadata": {},
   "outputs": [],
   "source": [
    "#Shape() | color()"
   ]
  },
  {
   "cell_type": "code",
   "execution_count": 11,
   "metadata": {},
   "outputs": [],
   "source": [
    "import turtle\n",
    "amul = turtle.Turtle()\n",
    "amul.shape()\n",
    "amul.shape(\"turtle\")\n",
    "amul.color()\n",
    "amul.forward(100)\n",
    "amul.color(\"red\")\n",
    "amul.forward(100)\n",
    "amul.color(\"blue\", \"green\")\n",
    "amul.backward(300)\n",
    "turtle.colormode(255)\n",
    "amul.color(120, 40, 50)"
   ]
  },
  {
   "cell_type": "code",
   "execution_count": 4,
   "metadata": {},
   "outputs": [
    {
     "name": "stdout",
     "output_type": "stream",
     "text": [
      "Help on function shape in module turtle:\n",
      "\n",
      "shape(name=None)\n",
      "    Set turtle shape to shape with given name / return current shapename.\n",
      "    \n",
      "    Optional argument:\n",
      "    name -- a string, which is a valid shapename\n",
      "    \n",
      "    Set turtle shape to shape with given name or, if name is not given,\n",
      "    return name of current shape.\n",
      "    Shape with name must exist in the TurtleScreen's shape dictionary.\n",
      "    Initially there are the following polygon shapes:\n",
      "    'arrow', 'turtle', 'circle', 'square', 'triangle', 'classic'.\n",
      "    To learn about how to deal with shapes see Screen-method register_shape.\n",
      "    \n",
      "    Example:\n",
      "    >>> shape()\n",
      "    'arrow'\n",
      "    >>> shape(\"turtle\")\n",
      "    >>> shape()\n",
      "    'turtle'\n",
      "\n"
     ]
    }
   ],
   "source": [
    "help(turtle.shape)"
   ]
  },
  {
   "cell_type": "code",
   "execution_count": 6,
   "metadata": {},
   "outputs": [],
   "source": [
    "#bgcolor() |  title() | bgpic()"
   ]
  },
  {
   "cell_type": "code",
   "execution_count": 4,
   "metadata": {},
   "outputs": [],
   "source": [
    "import turtle\n",
    "sachin = turtle.Turtle()\n",
    "sachin.color(\"blue\")\n",
    "sachin.shape(\"turtle\")\n",
    "wn = turtle.Screen()\n",
    "wn.bgcolor(\"pink\")\n",
    "turtle.colormode()\n",
    "turtle.colormode(255)\n",
    "wn.bgcolor(170, 30, 20)\n",
    "wn.title(\"Sachin\")\n"
   ]
  },
  {
   "cell_type": "code",
   "execution_count": 11,
   "metadata": {},
   "outputs": [],
   "source": [
    "import turtle\n",
    "sachin = turtle.Turtle()\n",
    "wn = turtle.Screen()\n",
    "wn.bgpic(\"Python.jpg\")"
   ]
  },
  {
   "cell_type": "code",
   "execution_count": 9,
   "metadata": {},
   "outputs": [
    {
     "name": "stdout",
     "output_type": "stream",
     "text": [
      "Help on function bgpic in module turtle:\n",
      "\n",
      "bgpic(picname=None)\n",
      "    Set background image or return name of current backgroundimage.\n",
      "    \n",
      "    Optional argument:\n",
      "    picname -- a string, name of a gif-file or \"nopic\".\n",
      "    \n",
      "    If picname is a filename, set the corresponding image as background.\n",
      "    If picname is \"nopic\", delete backgroundimage, if present.\n",
      "    If picname is None, return the filename of the current backgroundimage.\n",
      "    \n",
      "    Example:\n",
      "    >>> bgpic()\n",
      "    'nopic'\n",
      "    >>> bgpic(\"landscape.gif\")\n",
      "    >>> bgpic()\n",
      "    'landscape.gif'\n",
      "\n"
     ]
    }
   ],
   "source": [
    "help(turtle.bgpic)"
   ]
  },
  {
   "cell_type": "code",
   "execution_count": 2,
   "metadata": {},
   "outputs": [],
   "source": [
    "#Turtle movement | forward() | backward() | left() | right() | setheading()"
   ]
  },
  {
   "cell_type": "code",
   "execution_count": 3,
   "metadata": {},
   "outputs": [],
   "source": [
    "import turtle\n",
    "t = turtle.Turtle()\n",
    "t.setheading(90)\n",
    "t.setheading(180)\n",
    "t.setheading(270)\n",
    "t.setheading(360)\n",
    "t.forward(100)\n",
    "t.fd(-200)"
   ]
  },
  {
   "cell_type": "code",
   "execution_count": 4,
   "metadata": {},
   "outputs": [],
   "source": [
    "import turtle\n",
    "t = turtle.Turtle()\n",
    "t.backward(200)\n",
    "t.backward(-300)"
   ]
  },
  {
   "cell_type": "code",
   "execution_count": 1,
   "metadata": {},
   "outputs": [],
   "source": [
    "import turtle\n",
    "t = turtle.Turtle()\n",
    "t.forward(100)\n",
    "t.left(45)\n",
    "t.forward(200)"
   ]
  },
  {
   "cell_type": "code",
   "execution_count": 2,
   "metadata": {},
   "outputs": [],
   "source": [
    "import turtle\n",
    "t = turtle.Turtle()\n",
    "t.right(65)\n",
    "t.forward(100)"
   ]
  },
  {
   "cell_type": "code",
   "execution_count": 1,
   "metadata": {},
   "outputs": [],
   "source": [
    "#Draw Square shape | Fill color | Turtle Speed | HideTurtle"
   ]
  },
  {
   "cell_type": "code",
   "execution_count": 3,
   "metadata": {},
   "outputs": [],
   "source": [
    "import turtle"
   ]
  },
  {
   "cell_type": "code",
   "execution_count": 4,
   "metadata": {},
   "outputs": [
    {
     "name": "stdout",
     "output_type": "stream",
     "text": [
      "Help on function speed in module turtle:\n",
      "\n",
      "speed(speed=None)\n",
      "    Return or set the turtle's speed.\n",
      "    \n",
      "    Optional argument:\n",
      "    speed -- an integer in the range 0..10 or a speedstring (see below)\n",
      "    \n",
      "    Set the turtle's speed to an integer value in the range 0 .. 10.\n",
      "    If no argument is given: return current speed.\n",
      "    \n",
      "    If input is a number greater than 10 or smaller than 0.5,\n",
      "    speed is set to 0.\n",
      "    Speedstrings  are mapped to speedvalues in the following way:\n",
      "        'fastest' :  0\n",
      "        'fast'    :  10\n",
      "        'normal'  :  6\n",
      "        'slow'    :  3\n",
      "        'slowest' :  1\n",
      "    speeds from 1 to 10 enforce increasingly faster animation of\n",
      "    line drawing and turtle turning.\n",
      "    \n",
      "    Attention:\n",
      "    speed = 0 : *no* animation takes place. forward/back makes turtle jump\n",
      "    and likewise left/right make the turtle turn instantly.\n",
      "    \n",
      "    Example:\n",
      "    >>> speed(3)\n",
      "\n"
     ]
    }
   ],
   "source": [
    "help(turtle.speed)"
   ]
  },
  {
   "cell_type": "code",
   "execution_count": 6,
   "metadata": {},
   "outputs": [],
   "source": [
    "t = turtle.Turtle()\n",
    "t.color(\"white\")\n",
    "t.speed(1)\n",
    "wn = turtle.Screen()\n",
    "wn.bgcolor(\"black\")\n",
    "t.begin_fill()\n",
    "t.fillcolor(\"red\")\n",
    "for i in range(4):\n",
    "    t.forward(100)\n",
    "    t.left(90)\n",
    "t.end_fill()\n",
    "t.hideturtle()"
   ]
  },
  {
   "cell_type": "code",
   "execution_count": 1,
   "metadata": {},
   "outputs": [],
   "source": [
    "import turtle\n",
    "t = turtle.Turtle()\n",
    "t.forward(100)\n",
    "t.left(90)\n",
    "t.forward(100)\n",
    "t.left(90)\n",
    "t.forward(100)\n",
    "t.left(90)\n",
    "t.forward(100)"
   ]
  },
  {
   "cell_type": "code",
   "execution_count": 1,
   "metadata": {},
   "outputs": [],
   "source": [
    "#Draw circle | Fill color | Circle method"
   ]
  },
  {
   "cell_type": "code",
   "execution_count": 4,
   "metadata": {},
   "outputs": [],
   "source": [
    "import turtle\n",
    "t = turtle.Turtle()\n",
    "t.circle(20)\n",
    "t.circle(-50)\n",
    "t.reset()\n",
    "t.circle(100, 180)\n",
    "t.reset()\n",
    "t.circle(100, steps = 3)\n",
    "t.reset()\n",
    "t.circle(100, steps = 5)\n",
    "t.reset()"
   ]
  },
  {
   "cell_type": "code",
   "execution_count": 1,
   "metadata": {},
   "outputs": [],
   "source": [
    "import turtle\n",
    "t = turtle.Turtle()\n",
    "t.color(\"white\")\n",
    "wn = turtle.Screen()\n",
    "wn.bgcolor(\"black\")\n",
    "t.begin_fill()\n",
    "t.fillcolor(\"yellow\")\n",
    "t.circle(100, steps = 3)\n",
    "t.end_fill()\n",
    "t.hideturtle()"
   ]
  },
  {
   "cell_type": "code",
   "execution_count": 1,
   "metadata": {},
   "outputs": [],
   "source": [
    "#goto method | up and down method | Draw shapes in any Position"
   ]
  },
  {
   "cell_type": "code",
   "execution_count": 2,
   "metadata": {},
   "outputs": [],
   "source": [
    "import turtle\n",
    "t = turtle.Turtle()\n",
    "t.up()\n",
    "t.goto(0, -100)\n",
    "t.circle(100)\n",
    "t.down()\n",
    "t.circle(100)\n",
    "t.reset()\n",
    "t.up()\n",
    "t.goto(100, 100)\n",
    "t.circle(100)\n",
    "t.down()\n",
    "t.circle(100)"
   ]
  },
  {
   "cell_type": "code",
   "execution_count": 1,
   "metadata": {},
   "outputs": [
    {
     "name": "stdout",
     "output_type": "stream",
     "text": [
      "Help on function undo in module turtle:\n",
      "\n",
      "undo()\n",
      "    undo (repeatedly) the last turtle action.\n",
      "    \n",
      "    No argument.\n",
      "    \n",
      "    undo (repeatedly) the last turtle action.\n",
      "    Number of available undo actions is determined by the size of\n",
      "    the undobuffer.\n",
      "    \n",
      "    Example:\n",
      "    >>> for i in range(4):\n",
      "    ...     fd(50); lt(80)\n",
      "    ...\n",
      "    >>> for i in range(8):\n",
      "    ...     undo()\n",
      "    ...\n",
      "\n"
     ]
    }
   ],
   "source": [
    "import turtle\n",
    "help(turtle.undo)"
   ]
  },
  {
   "cell_type": "code",
   "execution_count": 2,
   "metadata": {},
   "outputs": [
    {
     "name": "stdout",
     "output_type": "stream",
     "text": [
      "Help on function goto in module turtle:\n",
      "\n",
      "goto(x, y=None)\n",
      "    Move turtle to an absolute position.\n",
      "    \n",
      "    Aliases: setpos | setposition | goto:\n",
      "    \n",
      "    Arguments:\n",
      "    x -- a number      or     a pair/vector of numbers\n",
      "    y -- a number             None\n",
      "    \n",
      "    call: goto(x, y)         # two coordinates\n",
      "    --or: goto((x, y))       # a pair (tuple) of coordinates\n",
      "    --or: goto(vec)          # e.g. as returned by pos()\n",
      "    \n",
      "    Move turtle to an absolute position. If the pen is down,\n",
      "    a line will be drawn. The turtle's orientation does not change.\n",
      "    \n",
      "    Example:\n",
      "    >>> tp = pos()\n",
      "    >>> tp\n",
      "    (0.00, 0.00)\n",
      "    >>> setpos(60,30)\n",
      "    >>> pos()\n",
      "    (60.00,30.00)\n",
      "    >>> setpos((20,80))\n",
      "    >>> pos()\n",
      "    (20.00,80.00)\n",
      "    >>> setpos(tp)\n",
      "    >>> pos()\n",
      "    (0.00,0.00)\n",
      "\n"
     ]
    }
   ],
   "source": [
    "help(turtle.goto)"
   ]
  },
  {
   "cell_type": "code",
   "execution_count": 3,
   "metadata": {},
   "outputs": [
    {
     "name": "stdout",
     "output_type": "stream",
     "text": [
      "Help on function up in module turtle:\n",
      "\n",
      "up()\n",
      "    Pull the pen up -- no drawing when moving.\n",
      "    \n",
      "    Aliases: penup | pu | up\n",
      "    \n",
      "    No argument\n",
      "    \n",
      "    Example:\n",
      "    >>> penup()\n",
      "\n"
     ]
    }
   ],
   "source": [
    "help(turtle.up)"
   ]
  },
  {
   "cell_type": "code",
   "execution_count": 4,
   "metadata": {},
   "outputs": [
    {
     "name": "stdout",
     "output_type": "stream",
     "text": [
      "Help on function down in module turtle:\n",
      "\n",
      "down()\n",
      "    Pull the pen down -- drawing when moving.\n",
      "    \n",
      "    Aliases: pendown | pd | down\n",
      "    \n",
      "    No argument.\n",
      "    \n",
      "    Example:\n",
      "    >>> pendown()\n",
      "\n"
     ]
    }
   ],
   "source": [
    "a = turtle.pen()\n",
    "help(turtle.down)"
   ]
  },
  {
   "cell_type": "code",
   "execution_count": 1,
   "metadata": {},
   "outputs": [],
   "source": [
    "#Patterns | Drawing different shapes"
   ]
  },
  {
   "cell_type": "code",
   "execution_count": 2,
   "metadata": {},
   "outputs": [],
   "source": [
    "import turtle\n",
    "t = turtle.Turtle()\n",
    "t.up()\n",
    "\n",
    "t.goto(0, -50)\n",
    "t.down()\n",
    "t.begin_fill()\n",
    "t.fillcolor(\"green\")\n",
    "t.circle(50)\n",
    "t.end_fill()\n",
    "t.up()\n",
    "t.home()\n",
    "\n",
    "t.goto(200, 200)\n",
    "t.down()\n",
    "t.begin_fill()\n",
    "t.fillcolor(\"orange\")\n",
    "t.circle(50)\n",
    "t.end_fill()\n",
    "t.up()\n",
    "t.home()\n",
    "\n",
    "t.goto(-200, 200)\n",
    "t.down()\n",
    "t.begin_fill()\n",
    "t.fillcolor(\"red\")\n",
    "t.circle(50)\n",
    "t.end_fill()\n",
    "t.up()\n",
    "t.home()\n",
    "\n",
    "t.goto(-200, -200)\n",
    "t.down()\n",
    "t.begin_fill()\n",
    "t.fillcolor(\"blue\")\n",
    "t.circle(-50)\n",
    "t.end_fill()\n",
    "t.up()\n",
    "t.home()\n",
    "\n",
    "t.goto(200, -200)\n",
    "t.down()\n",
    "t.begin_fill()\n",
    "t.fillcolor(\"yellow\")\n",
    "t.circle(-50)\n",
    "t.end_fill()\n",
    "t.up()\n",
    "t.home()\n"
   ]
  },
  {
   "cell_type": "code",
   "execution_count": 1,
   "metadata": {},
   "outputs": [],
   "source": [
    "def draw_circle(x, y, color, rad):\n",
    "    t.goto(x, y)\n",
    "    t.down()\n",
    "    t.begin_fill()\n",
    "    t.fillcolor(color)\n",
    "    t.circle(rad)\n",
    "    t.end_fill()\n",
    "    t.up()\n",
    "    t.home()\n",
    "    \n",
    "import turtle\n",
    "t = turtle.Turtle()\n",
    "t.up()\n",
    "draw_circle(0, -50, \"green\", 50)\n",
    "draw_circle(0, 300, \"green\", 25)\n",
    "draw_circle(200, 200, \"orange\", 50)\n",
    "draw_circle(0, -300, \"orange\", 25)\n",
    "draw_circle(-200, 200, \"blue\", 50)\n",
    "draw_circle(300, 0, \"blue\", 25)\n",
    "draw_circle(-200, -200, \"red\", 50)\n",
    "draw_circle(-300, 0, \"red\", 25)\n",
    "draw_circle(200, -200, \"yellow\", 50)\n"
   ]
  },
  {
   "cell_type": "code",
   "execution_count": 1,
   "metadata": {},
   "outputs": [],
   "source": [
    "#Pattern-2 | Drawing different shapes"
   ]
  },
  {
   "cell_type": "code",
   "execution_count": 1,
   "metadata": {},
   "outputs": [],
   "source": [
    "import turtle\n",
    "t = turtle.Turtle()\n",
    "list1 = [\"yellow\", 'red', 'green', 'blue']\n",
    "t.up()\n",
    "t.goto(200, 0)\n",
    "for i in range(4):\n",
    "    t.down()\n",
    "    t.begin_fill()\n",
    "    t.fillcolor(list1[i])\n",
    "    t.circle(50)\n",
    "    t.end_fill()\n",
    "    t.up()\n",
    "    t.bk(100)"
   ]
  },
  {
   "cell_type": "code",
   "execution_count": 1,
   "metadata": {},
   "outputs": [],
   "source": [
    "import turtle\n",
    "t = turtle.Turtle()\n",
    "list = ['yellow', 'red', 'green', 'blue']\n",
    "t.up()\n",
    "t.goto(200, 0)\n",
    "for i in range(4):\n",
    "    t.down()\n",
    "    t.begin_fill()\n",
    "    t.fillcolor(list[i])\n",
    "    t.circle(100)\n",
    "    t.end_fill()\n",
    "    t.up()\n",
    "    t.bk(100)"
   ]
  },
  {
   "cell_type": "code",
   "execution_count": 1,
   "metadata": {},
   "outputs": [],
   "source": [
    "import turtle\n",
    "t = turtle.Turtle()\n",
    "list = ['yellow', 'red', 'green', 'blue']\n",
    "t.up()\n",
    "t.goto(200, 0)\n",
    "for i in range(4):\n",
    "    t.down()\n",
    "    t.color(list[i])\n",
    "    t.pensize(10)\n",
    "    t.circle(100)\n",
    "    t.up()\n",
    "    t.bk(100)"
   ]
  },
  {
   "cell_type": "code",
   "execution_count": 1,
   "metadata": {},
   "outputs": [],
   "source": [
    "import turtle\n",
    "t=turtle.Turtle()\n",
    "list1 = [\"purple\", \"pink\", \"yellow\", \"green\", \"blue\", \"orange\"]\n",
    "for i in range(200):\n",
    "    t.color(list1[i%5])\n",
    "    t.pensize(i/10+1)\n",
    "    t.forward(i)\n",
    "    t.left(60)"
   ]
  },
  {
   "cell_type": "code",
   "execution_count": 1,
   "metadata": {},
   "outputs": [],
   "source": [
    "#Drawing heart shape"
   ]
  },
  {
   "cell_type": "code",
   "execution_count": 2,
   "metadata": {},
   "outputs": [],
   "source": [
    "import turtle\n",
    "t = turtle.Turtle()\n",
    "turtle.title(\"Heart Shape\")\n",
    "screen = turtle.Screen()\n",
    "screen.bgcolor(\"black\")\n",
    "t.color(\"red\")\n",
    "t.begin_fill()\n",
    "t.fillcolor(\"red\")\n",
    "t.left(140)\n",
    "t.forward(180)\n",
    "t.circle(-90, 200)\n",
    "t.setheading(60)\n",
    "t.circle(-90, 200)\n",
    "t.forward(180)\n",
    "t.end_fill()\n",
    "t.hideturtle()"
   ]
  },
  {
   "cell_type": "code",
   "execution_count": 1,
   "metadata": {},
   "outputs": [],
   "source": [
    "import turtle\n",
    "def rectangle(color):\n",
    "    t.begin_fill()\n",
    "    t.fillcolor(color)\n",
    "    for i in range(2):\n",
    "        t.forward(400)\n",
    "        t.right(90)\n",
    "        t.forward(100)\n",
    "        t.right(90)\n",
    "    t.end_fill()\n",
    "    \n",
    "t = turtle.Turtle()\n",
    "t.up()\n",
    "t.pensize(4)\n",
    "t.goto(0, -300)\n",
    "t.down()\n",
    "t.goto(0,400)\n",
    "rectangle(\"#FF9933\")\n",
    "\n",
    "t.goto(0, 300)\n",
    "t.forward(200)\n",
    "t.color(\"#000088\")\n",
    "t.circle(-50)\n",
    "t.setheading(270)\n",
    "t.forward(50)\n",
    "t.setheading(0)\n",
    "for i in range(24):\n",
    "    t.forward(45)\n",
    "    t.bk(45)\n",
    "    t.left(15)\n",
    "t.setheading(90)\n",
    "t.forward(50)\n",
    "t.setheading(0)\n",
    "t.color(\"black\")\n",
    "t.forward(200)\n",
    "t.right(90)\n",
    "t.forward(100)\n",
    "t.right(90)\n",
    "t.forward(400)\n",
    "t.right(90)\n",
    "t.forward(100)\n",
    "t.right(90)\n",
    "t.goto(0,200)\n",
    "rectangle(\"#128807\")"
   ]
  },
  {
   "cell_type": "code",
   "execution_count": null,
   "metadata": {},
   "outputs": [],
   "source": []
  },
  {
   "cell_type": "code",
   "execution_count": null,
   "metadata": {},
   "outputs": [],
   "source": []
  },
  {
   "cell_type": "code",
   "execution_count": null,
   "metadata": {},
   "outputs": [],
   "source": []
  },
  {
   "cell_type": "code",
   "execution_count": null,
   "metadata": {},
   "outputs": [],
   "source": []
  },
  {
   "cell_type": "code",
   "execution_count": null,
   "metadata": {},
   "outputs": [],
   "source": []
  },
  {
   "cell_type": "code",
   "execution_count": null,
   "metadata": {},
   "outputs": [],
   "source": []
  },
  {
   "cell_type": "code",
   "execution_count": null,
   "metadata": {},
   "outputs": [],
   "source": []
  },
  {
   "cell_type": "code",
   "execution_count": null,
   "metadata": {},
   "outputs": [],
   "source": []
  },
  {
   "cell_type": "code",
   "execution_count": null,
   "metadata": {},
   "outputs": [],
   "source": []
  },
  {
   "cell_type": "code",
   "execution_count": null,
   "metadata": {},
   "outputs": [],
   "source": []
  },
  {
   "cell_type": "code",
   "execution_count": null,
   "metadata": {},
   "outputs": [],
   "source": []
  }
 ],
 "metadata": {
  "kernelspec": {
   "display_name": "Python 3",
   "language": "python",
   "name": "python3"
  },
  "language_info": {
   "codemirror_mode": {
    "name": "ipython",
    "version": 3
   },
   "file_extension": ".py",
   "mimetype": "text/x-python",
   "name": "python",
   "nbconvert_exporter": "python",
   "pygments_lexer": "ipython3",
   "version": "3.8.5"
  }
 },
 "nbformat": 4,
 "nbformat_minor": 4
}
