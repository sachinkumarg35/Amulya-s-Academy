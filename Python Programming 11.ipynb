{
 "cells": [
  {
   "cell_type": "code",
   "execution_count": 1,
   "metadata": {},
   "outputs": [],
   "source": [
    "#Printing stars '*' and 'A' in Right Angle Triangle Shape."
   ]
  },
  {
   "cell_type": "code",
   "execution_count": 3,
   "metadata": {},
   "outputs": [
    {
     "name": "stdout",
     "output_type": "stream",
     "text": [
      "Enter the number of rows: 5\n",
      "    *\n",
      "   *A*\n",
      "  *A*A*\n",
      " *A*A*A*\n",
      "*A*A*A*A*\n"
     ]
    }
   ],
   "source": [
    "n = int(input(\"Enter the number of rows: \"))\n",
    "for i in range(n):\n",
    "    count=0\n",
    "    for j in range(n-i-1):\n",
    "        print(\" \", end=\"\")\n",
    "    for j in range(i+1):\n",
    "        print(\"*\", end=\"\")\n",
    "        if count<i:\n",
    "            print(\"A\", end=\"\")\n",
    "            count=count+1\n",
    "    print()"
   ]
  },
  {
   "cell_type": "code",
   "execution_count": 4,
   "metadata": {},
   "outputs": [],
   "source": [
    "#Printing numbers in Triangle Shape | Column wise | Interview Question"
   ]
  },
  {
   "cell_type": "code",
   "execution_count": 6,
   "metadata": {},
   "outputs": [
    {
     "name": "stdout",
     "output_type": "stream",
     "text": [
      "Enter the number of rows: 5\n",
      "1 \n",
      "2 6 \n",
      "3 7 10 \n",
      "4 8 11 13 \n",
      "5 9 12 14 15 \n"
     ]
    }
   ],
   "source": [
    "n = int(input(\"Enter the number of rows: \"))\n",
    "for i in range(n):\n",
    "    count = i+1\n",
    "    dec = n-1\n",
    "    for j in range(i+1):\n",
    "        print(count, end= \" \")\n",
    "        count = count+dec\n",
    "        dec = dec-1\n",
    "    print()"
   ]
  },
  {
   "cell_type": "code",
   "execution_count": 9,
   "metadata": {},
   "outputs": [
    {
     "name": "stdout",
     "output_type": "stream",
     "text": [
      "15 \n",
      "14 10 \n",
      "13 9 6 \n",
      "12 8 5 3 \n",
      "11 7 4 2 1 \n"
     ]
    }
   ],
   "source": [
    "n = 5\n",
    "k = 15\n",
    "for i in range(n):\n",
    "    count = k - i\n",
    "    dec = n-1\n",
    "    for j in range(i+1):\n",
    "        print(count, end=\" \")\n",
    "        count = count-dec\n",
    "        dec = dec - 1\n",
    "    print()"
   ]
  },
  {
   "cell_type": "code",
   "execution_count": 2,
   "metadata": {},
   "outputs": [
    {
     "name": "stdout",
     "output_type": "stream",
     "text": [
      "enter the number of rows: 6\n",
      "21 \n",
      "20 15 \n",
      "19 14 10 \n",
      "18 13 9 6 \n",
      "17 12 8 5 3 \n",
      "16 11 7 4 2 1 \n"
     ]
    }
   ],
   "source": [
    "def num(n1):\n",
    "    if n1==1:\n",
    "        return 1\n",
    "    return n1+num(n1-1)\n",
    "n = int(input(\"enter the number of rows: \"))\n",
    "k = num(n)\n",
    "for row in range(n):\n",
    "    val = k - row\n",
    "    dec = n-1\n",
    "    for col in range(row+1):\n",
    "        print(val, end=\" \")\n",
    "        val = val-dec\n",
    "        dec = dec - 1\n",
    "    print()"
   ]
  },
  {
   "cell_type": "code",
   "execution_count": 3,
   "metadata": {},
   "outputs": [],
   "source": [
    "#Matrix class in numpy."
   ]
  },
  {
   "cell_type": "code",
   "execution_count": 4,
   "metadata": {},
   "outputs": [
    {
     "data": {
      "text/plain": [
       "matrix([[1, 2],\n",
       "        [2, 4]])"
      ]
     },
     "execution_count": 4,
     "metadata": {},
     "output_type": "execute_result"
    }
   ],
   "source": [
    "import numpy as np\n",
    "a = np.matrix(\"1 2; 2 4\")\n",
    "a"
   ]
  },
  {
   "cell_type": "code",
   "execution_count": 5,
   "metadata": {},
   "outputs": [
    {
     "data": {
      "text/plain": [
       "matrix([[10, 20],\n",
       "        [30, 40]])"
      ]
     },
     "execution_count": 5,
     "metadata": {},
     "output_type": "execute_result"
    }
   ],
   "source": [
    "b = np.matrix([[10,20], [30,40]])\n",
    "b"
   ]
  },
  {
   "cell_type": "code",
   "execution_count": 6,
   "metadata": {},
   "outputs": [
    {
     "data": {
      "text/plain": [
       "matrix([[11, 22],\n",
       "        [32, 44]])"
      ]
     },
     "execution_count": 6,
     "metadata": {},
     "output_type": "execute_result"
    }
   ],
   "source": [
    "a+b"
   ]
  },
  {
   "cell_type": "code",
   "execution_count": 7,
   "metadata": {},
   "outputs": [
    {
     "data": {
      "text/plain": [
       "matrix([[ 70, 100],\n",
       "        [140, 200]])"
      ]
     },
     "execution_count": 7,
     "metadata": {},
     "output_type": "execute_result"
    }
   ],
   "source": [
    "a*b"
   ]
  },
  {
   "cell_type": "code",
   "execution_count": 8,
   "metadata": {},
   "outputs": [
    {
     "data": {
      "text/plain": [
       "matrix([[1, 2],\n",
       "        [2, 4]])"
      ]
     },
     "execution_count": 8,
     "metadata": {},
     "output_type": "execute_result"
    }
   ],
   "source": [
    "a.T"
   ]
  },
  {
   "cell_type": "code",
   "execution_count": 9,
   "metadata": {},
   "outputs": [
    {
     "data": {
      "text/plain": [
       "matrix([[10, 30],\n",
       "        [20, 40]])"
      ]
     },
     "execution_count": 9,
     "metadata": {},
     "output_type": "execute_result"
    }
   ],
   "source": [
    "b.T"
   ]
  },
  {
   "cell_type": "code",
   "execution_count": 11,
   "metadata": {},
   "outputs": [],
   "source": [
    "#Python program for Matrix addition and subtraction."
   ]
  },
  {
   "cell_type": "code",
   "execution_count": 13,
   "metadata": {},
   "outputs": [
    {
     "name": "stdout",
     "output_type": "stream",
     "text": [
      "Enter the row number: 2\n",
      "Enter the col number: 2\n",
      "Enter the elements for matrix1\n",
      "5\n",
      "6\n",
      "7\n",
      "8\n",
      "matrix1: \n",
      "5  6  \n",
      "7  8  \n",
      "Enter the elements for matrix2: \n",
      "10\n",
      "20\n",
      "30\n",
      "40\n",
      "matrix2: \n",
      "10 20 \n",
      "30 40 \n",
      "Result is: \n",
      "15 26 \n",
      "37 48 \n"
     ]
    }
   ],
   "source": [
    "row = int(input('Enter the row number: '))\n",
    "col = int(input('Enter the col number: '))\n",
    "\n",
    "print('Enter the elements for matrix1')\n",
    "matrix1 = [[int(input()) for i in range(col)] for j in range(row)]\n",
    "print(\"matrix1: \")\n",
    "for i in range(row):\n",
    "    for j in range(col):\n",
    "        print(format(matrix1[i][j], \"<3\"), end=\"\")\n",
    "    print()\n",
    "    \n",
    "print(\"Enter the elements for matrix2: \")\n",
    "matrix2 = [[int(input()) for i in range(col)] for j in range(row)]\n",
    "print(\"matrix2: \")\n",
    "for i in range(row):\n",
    "    for j in range(col):\n",
    "        print(format(matrix2[i][j], \"<3\"), end=\"\")\n",
    "    print()\n",
    "    \n",
    "result = [[0 for i in range(col)] for j in range(row)]\n",
    "\n",
    "for i in range(len(matrix1)):\n",
    "    for j in range(len(matrix1[0])):\n",
    "        result[i][j] = matrix1[i][j] + matrix2[i][j]\n",
    "    \n",
    "print(\"Result is: \")\n",
    "for i in range(row):\n",
    "    for j in range(col):\n",
    "        print(format(result[i][j], \"<3\"), end=\"\")\n",
    "    print()"
   ]
  },
  {
   "cell_type": "code",
   "execution_count": 14,
   "metadata": {},
   "outputs": [],
   "source": [
    "#Python program for Matrix multiplication."
   ]
  },
  {
   "cell_type": "code",
   "execution_count": 1,
   "metadata": {},
   "outputs": [
    {
     "name": "stdout",
     "output_type": "stream",
     "text": [
      "Enter the row number for matrix1: 2\n",
      "Enter the col number for matrix2: 2\n",
      "Enter the column number for matrix1/ row number of matrix2: 2\n",
      "Enter the elements for matrix1\n",
      "11\n",
      "22\n",
      "33\n",
      "44\n",
      "matrix1: \n",
      "11   22   \n",
      "33   44   \n",
      "Enter the elements for matrix2: \n",
      "55\n",
      "66\n",
      "77\n",
      "88\n",
      "matrix2: \n",
      "55   66   \n",
      "77   88   \n",
      "Result is: \n",
      "2299 2662 \n",
      "5203 6050 \n"
     ]
    }
   ],
   "source": [
    "p = int(input('Enter the row number for matrix1: '))\n",
    "q = int(input('Enter the col number for matrix2: '))\n",
    "n = int(input(\"Enter the column number for matrix1/ row number of matrix2: \"))\n",
    "\n",
    "print('Enter the elements for matrix1')\n",
    "matrix1 = [[int(input()) for i in range(n)] for j in range(p)]\n",
    "print(\"matrix1: \")\n",
    "for i in range(p):\n",
    "    for j in range(n):\n",
    "        print(format(matrix1[i][j], \"<5\"), end=\"\")\n",
    "    print()\n",
    "    \n",
    "print(\"Enter the elements for matrix2: \")\n",
    "matrix2 = [[int(input()) for i in range(q)] for j in range(n)]\n",
    "print(\"matrix2: \")\n",
    "for i in range(n):\n",
    "    for j in range(q):\n",
    "        print(format(matrix2[i][j], \"<5\"), end=\"\")\n",
    "    print()\n",
    "    \n",
    "result = [[0 for i in range(q)] for j in range(p)]\n",
    "\n",
    "for i in range(p):\n",
    "    for j in range(q):\n",
    "        for k in range(n):\n",
    "            result[i][j] = result[i][j] + matrix1[i][k] * matrix2[k][j]\n",
    "    \n",
    "print(\"Result is: \")\n",
    "for i in range(p):\n",
    "    for j in range(q):\n",
    "        print(format(result[i][j], \"<5\"), end=\"\")\n",
    "    print()"
   ]
  },
  {
   "cell_type": "code",
   "execution_count": 1,
   "metadata": {},
   "outputs": [],
   "source": [
    "#Python program to find Transpose of a Matrix."
   ]
  },
  {
   "cell_type": "code",
   "execution_count": 3,
   "metadata": {},
   "outputs": [
    {
     "name": "stdout",
     "output_type": "stream",
     "text": [
      "Enter the number of rows: 2\n",
      "Enter the number of columns: 3\n",
      "Enter the elements for matrix1: \n",
      "1\n",
      "2\n",
      "3\n",
      "4\n",
      "5\n",
      "6\n",
      "matrix1: \n",
      "   1   2   3\n",
      "   4   5   6\n",
      "Result: \n",
      "1   4   \n",
      "2   5   \n",
      "3   6   \n"
     ]
    }
   ],
   "source": [
    "p = int(input(\"Enter the number of rows: \"))\n",
    "q = int(input(\"Enter the number of columns: \"))\n",
    "\n",
    "print(\"Enter the elements for matrix1: \")\n",
    "matrix1 = [[int(input()) for i in range(q)] for j in range(p)]\n",
    "print(\"matrix1: \")\n",
    "for i in range(p):\n",
    "    for j in range(q):\n",
    "        print(format(matrix1[i][j], \"4\"), end=\"\")\n",
    "    print()\n",
    "\n",
    "result = [[0 for i in range(p)] for j in range(q)]\n",
    "for i in range(q):\n",
    "    for j in range(p):\n",
    "        result[i][j] = matrix1[j][i]\n",
    "print(\"Result: \")\n",
    "\n",
    "for i in range(q):\n",
    "    for j in range(p):\n",
    "        print(format(result[i][j], \"<4\"), end=\"\")\n",
    "    print()"
   ]
  },
  {
   "cell_type": "code",
   "execution_count": 1,
   "metadata": {},
   "outputs": [],
   "source": [
    "#Create quiz using dictionary | Interview question."
   ]
  },
  {
   "cell_type": "code",
   "execution_count": 5,
   "metadata": {},
   "outputs": [
    {
     "name": "stdout",
     "output_type": "stream",
     "text": [
      "Enter your name: Sachin\n",
      "Hello Sachin Welcome to the Quiz.\n",
      "\n",
      "Is python case sensitive when dealing with Identifiers?\n",
      "a. Yes\n",
      "b. No\n",
      "c. Machine Dependent.\n",
      "d. None.\n",
      "Do you want to skip this question (yes/no)no\n",
      "Enter your answer (a/b/c/d): a\n",
      "Correct answer you got one point.\n",
      "Current score is 1\n",
      "Do you want to skip (yes/no)no\n",
      "\n",
      "Which of the following is not a keyword?\n",
      "a. eval\n",
      "b. assert\n",
      "c. local\n",
      "d. pass\n",
      "Do you want to skip this question (yes/no)a\n",
      "Enter your answer (a/b/c/d): a\n",
      "Correct answer you got one point.\n",
      "Current score is 2\n",
      "Do you want to skip (yes/no)no\n",
      "\n",
      "Which one of these is floor division\n",
      "a. /\n",
      "b. //\n",
      "c. %\n",
      "d. None\n",
      "Do you want to skip this question (yes/no)no\n",
      "Enter your answer (a/b/c/d): b\n",
      "Correct answer you got one point.\n",
      "Current score is 3\n",
      "Do you want to skip (yes/no)no\n",
      "\n",
      "What is the output odf this 3*1**3\n",
      "a. 27\n",
      "b. 9\n",
      "c. 3\n",
      "d. 1\n",
      "Do you want to skip this question (yes/no)no\n",
      "Enter your answer (a/b/c/d): c\n",
      "Correct answer you got one point.\n",
      "Current score is 4\n",
      "Do you want to skip (yes/no)no\n",
      "\n",
      "\"a\"+\"bc\"=??\n",
      "a. a\n",
      "b. bc\n",
      "c. bca\n",
      "d. abc\n",
      "\n",
      "Do you want to skip this question (yes/no)n\n",
      "Enter your answer (a/b/c/d): d\n",
      "Correct answer you got one point.\n",
      "Current score is 5\n",
      "Do you want to skip (yes/no)no\n",
      "Final score is:  5\n"
     ]
    }
   ],
   "source": [
    "q1 = \"\"\"Is python case sensitive when dealing with Identifiers?\n",
    "a. Yes\n",
    "b. No\n",
    "c. Machine Dependent.\n",
    "d. None.\"\"\"\n",
    "\n",
    "q2 = \"\"\"Which of the following is not a keyword?\n",
    "a. eval\n",
    "b. assert\n",
    "c. local\n",
    "d. pass\"\"\"\n",
    "\n",
    "q3 = \"\"\"Which one of these is floor division\n",
    "a. /\n",
    "b. //\n",
    "c. %\n",
    "d. None\"\"\"\n",
    "\n",
    "q4 = \"\"\"What is the output odf this 3*1**3\n",
    "a. 27\n",
    "b. 9\n",
    "c. 3\n",
    "d. 1\"\"\"\n",
    "\n",
    "q5 = \"\"\"\"a\"+\"bc\"=??\n",
    "a. a\n",
    "b. bc\n",
    "c. bca\n",
    "d. abc\n",
    "\"\"\"\n",
    "\n",
    "questions = {q1:\"a\", q2:\"a\", q3:\"b\", q4:\"c\", q5:\"d\"}\n",
    "name = input(\"Enter your name: \")\n",
    "print(\"Hello\", name, \"Welcome to the Quiz.\")\n",
    "score = 0\n",
    "for i in questions:\n",
    "    print()\n",
    "    print(i)\n",
    "    flag1 = input(\"Do you want to skip this question (yes/no)\")\n",
    "    if flag1 == 'yes':\n",
    "        continue\n",
    "    ans = input(\"Enter your answer (a/b/c/d): \")\n",
    "    if ans == questions[i]:\n",
    "        print(\"Correct answer you got one point.\")\n",
    "        score = score + 1\n",
    "        print(\"Current score is\", score)\n",
    "    else:\n",
    "        print(\"Wrong answer you lost one point.\")\n",
    "        score = score - 1\n",
    "        print(\"Current score is\", score)\n",
    "    flag2 = input(\"Do you want to skip (yes/no)\")\n",
    "    if flag2 == \"yes\":\n",
    "        break\n",
    "        \n",
    "print(\"Final score is: \", score)"
   ]
  },
  {
   "cell_type": "code",
   "execution_count": 6,
   "metadata": {},
   "outputs": [],
   "source": [
    "#Inverse of a matrix | Linear Algebra"
   ]
  },
  {
   "cell_type": "code",
   "execution_count": 7,
   "metadata": {},
   "outputs": [
    {
     "data": {
      "text/plain": [
       "array([[1, 2],\n",
       "       [3, 4]])"
      ]
     },
     "execution_count": 7,
     "metadata": {},
     "output_type": "execute_result"
    }
   ],
   "source": [
    "import numpy as np\n",
    "a = np.array([[1,2],[3,4]])\n",
    "a"
   ]
  },
  {
   "cell_type": "code",
   "execution_count": 8,
   "metadata": {},
   "outputs": [
    {
     "data": {
      "text/plain": [
       "array([[-2. ,  1. ],\n",
       "       [ 1.5, -0.5]])"
      ]
     },
     "execution_count": 8,
     "metadata": {},
     "output_type": "execute_result"
    }
   ],
   "source": [
    "b = np.linalg.inv(a)\n",
    "b"
   ]
  },
  {
   "cell_type": "code",
   "execution_count": 9,
   "metadata": {},
   "outputs": [
    {
     "data": {
      "text/plain": [
       "True"
      ]
     },
     "execution_count": 9,
     "metadata": {},
     "output_type": "execute_result"
    }
   ],
   "source": [
    "np.allclose(np.dot(a,b), np.eye(2))"
   ]
  },
  {
   "cell_type": "code",
   "execution_count": 10,
   "metadata": {},
   "outputs": [
    {
     "data": {
      "text/plain": [
       "array([[1.0000000e+00, 0.0000000e+00],\n",
       "       [8.8817842e-16, 1.0000000e+00]])"
      ]
     },
     "execution_count": 10,
     "metadata": {},
     "output_type": "execute_result"
    }
   ],
   "source": [
    "np.dot(a,b)"
   ]
  },
  {
   "cell_type": "code",
   "execution_count": 11,
   "metadata": {},
   "outputs": [
    {
     "name": "stdout",
     "output_type": "stream",
     "text": [
      "Help on function inv in module numpy.linalg:\n",
      "\n",
      "inv(a)\n",
      "    Compute the (multiplicative) inverse of a matrix.\n",
      "    \n",
      "    Given a square matrix `a`, return the matrix `ainv` satisfying\n",
      "    ``dot(a, ainv) = dot(ainv, a) = eye(a.shape[0])``.\n",
      "    \n",
      "    Parameters\n",
      "    ----------\n",
      "    a : (..., M, M) array_like\n",
      "        Matrix to be inverted.\n",
      "    \n",
      "    Returns\n",
      "    -------\n",
      "    ainv : (..., M, M) ndarray or matrix\n",
      "        (Multiplicative) inverse of the matrix `a`.\n",
      "    \n",
      "    Raises\n",
      "    ------\n",
      "    LinAlgError\n",
      "        If `a` is not square or inversion fails.\n",
      "    \n",
      "    See Also\n",
      "    --------\n",
      "    scipy.linalg.inv : Similar function in SciPy.\n",
      "    \n",
      "    Notes\n",
      "    -----\n",
      "    \n",
      "    .. versionadded:: 1.8.0\n",
      "    \n",
      "    Broadcasting rules apply, see the `numpy.linalg` documentation for\n",
      "    details.\n",
      "    \n",
      "    Examples\n",
      "    --------\n",
      "    >>> from numpy.linalg import inv\n",
      "    >>> a = np.array([[1., 2.], [3., 4.]])\n",
      "    >>> ainv = inv(a)\n",
      "    >>> np.allclose(np.dot(a, ainv), np.eye(2))\n",
      "    True\n",
      "    >>> np.allclose(np.dot(ainv, a), np.eye(2))\n",
      "    True\n",
      "    \n",
      "    If a is a matrix object, then the return value is a matrix as well:\n",
      "    \n",
      "    >>> ainv = inv(np.matrix(a))\n",
      "    >>> ainv\n",
      "    matrix([[-2. ,  1. ],\n",
      "            [ 1.5, -0.5]])\n",
      "    \n",
      "    Inverses of several matrices can be computed at once:\n",
      "    \n",
      "    >>> a = np.array([[[1., 2.], [3., 4.]], [[1, 3], [3, 5]]])\n",
      "    >>> inv(a)\n",
      "    array([[[-2.  ,  1.  ],\n",
      "            [ 1.5 , -0.5 ]],\n",
      "           [[-1.25,  0.75],\n",
      "            [ 0.75, -0.25]]])\n",
      "\n"
     ]
    }
   ],
   "source": [
    "help(np.linalg.inv)"
   ]
  },
  {
   "cell_type": "code",
   "execution_count": 12,
   "metadata": {},
   "outputs": [],
   "source": [
    "#Power of a matrix | numpy |Linear algebra"
   ]
  },
  {
   "cell_type": "code",
   "execution_count": 13,
   "metadata": {},
   "outputs": [
    {
     "data": {
      "text/plain": [
       "array([[ 7, 10],\n",
       "       [15, 22]])"
      ]
     },
     "execution_count": 13,
     "metadata": {},
     "output_type": "execute_result"
    }
   ],
   "source": [
    "import numpy as np\n",
    "a = np.array([[1,2],[3,4]])\n",
    "np.linalg.matrix_power(a, 2)"
   ]
  },
  {
   "cell_type": "code",
   "execution_count": 14,
   "metadata": {},
   "outputs": [
    {
     "data": {
      "text/plain": [
       "array([[ 7, 10],\n",
       "       [15, 22]])"
      ]
     },
     "execution_count": 14,
     "metadata": {},
     "output_type": "execute_result"
    }
   ],
   "source": [
    "np.dot(a,a)"
   ]
  },
  {
   "cell_type": "code",
   "execution_count": 15,
   "metadata": {},
   "outputs": [
    {
     "data": {
      "text/plain": [
       "array([[ 37,  54],\n",
       "       [ 81, 118]])"
      ]
     },
     "execution_count": 15,
     "metadata": {},
     "output_type": "execute_result"
    }
   ],
   "source": [
    "np.linalg.matrix_power(a,3)"
   ]
  },
  {
   "cell_type": "code",
   "execution_count": 16,
   "metadata": {},
   "outputs": [
    {
     "data": {
      "text/plain": [
       "array([[1, 0],\n",
       "       [0, 1]])"
      ]
     },
     "execution_count": 16,
     "metadata": {},
     "output_type": "execute_result"
    }
   ],
   "source": [
    "np.linalg.matrix_power(a,0)"
   ]
  },
  {
   "cell_type": "code",
   "execution_count": 17,
   "metadata": {},
   "outputs": [
    {
     "data": {
      "text/plain": [
       "array([[ 5.5 , -2.5 ],\n",
       "       [-3.75,  1.75]])"
      ]
     },
     "execution_count": 17,
     "metadata": {},
     "output_type": "execute_result"
    }
   ],
   "source": [
    "np.linalg.matrix_power(a, -2)"
   ]
  },
  {
   "cell_type": "code",
   "execution_count": 18,
   "metadata": {},
   "outputs": [
    {
     "data": {
      "text/plain": [
       "array([[-2. ,  1. ],\n",
       "       [ 1.5, -0.5]])"
      ]
     },
     "execution_count": 18,
     "metadata": {},
     "output_type": "execute_result"
    }
   ],
   "source": [
    "b = np.linalg.inv(a)\n",
    "b"
   ]
  },
  {
   "cell_type": "code",
   "execution_count": 19,
   "metadata": {},
   "outputs": [
    {
     "data": {
      "text/plain": [
       "array([[ 5.5 , -2.5 ],\n",
       "       [-3.75,  1.75]])"
      ]
     },
     "execution_count": 19,
     "metadata": {},
     "output_type": "execute_result"
    }
   ],
   "source": [
    "np.linalg.matrix_power(b,2)"
   ]
  },
  {
   "cell_type": "code",
   "execution_count": 21,
   "metadata": {},
   "outputs": [],
   "source": [
    "#Solve Linear Equation using numpy | Linear Algebra"
   ]
  },
  {
   "cell_type": "code",
   "execution_count": 22,
   "metadata": {},
   "outputs": [
    {
     "data": {
      "text/plain": [
       "array([2., 3.])"
      ]
     },
     "execution_count": 22,
     "metadata": {},
     "output_type": "execute_result"
    }
   ],
   "source": [
    "import numpy as np\n",
    "a = np.array([[3,1],[1,2]])\n",
    "b = np.array([9,8])\n",
    "np.linalg.solve(a,b)"
   ]
  },
  {
   "cell_type": "code",
   "execution_count": 23,
   "metadata": {},
   "outputs": [
    {
     "data": {
      "text/plain": [
       "array([2., 3., 1.])"
      ]
     },
     "execution_count": 23,
     "metadata": {},
     "output_type": "execute_result"
    }
   ],
   "source": [
    "x = np.array([[6,2,-5],[3,3,-2],[7,5,-3]])\n",
    "y = np.array([13,13, 26])\n",
    "np.linalg.solve(x,y)"
   ]
  },
  {
   "cell_type": "code",
   "execution_count": 24,
   "metadata": {},
   "outputs": [],
   "source": [
    "#Determinant of a matrix | numpy | Linear Algebra"
   ]
  },
  {
   "cell_type": "code",
   "execution_count": 25,
   "metadata": {},
   "outputs": [
    {
     "data": {
      "text/plain": [
       "array([[1, 2],\n",
       "       [3, 4]])"
      ]
     },
     "execution_count": 25,
     "metadata": {},
     "output_type": "execute_result"
    }
   ],
   "source": [
    "import numpy as np\n",
    "a = np.array([[1,2],[3,4]])\n",
    "a"
   ]
  },
  {
   "cell_type": "code",
   "execution_count": 26,
   "metadata": {},
   "outputs": [
    {
     "data": {
      "text/plain": [
       "-2.0000000000000004"
      ]
     },
     "execution_count": 26,
     "metadata": {},
     "output_type": "execute_result"
    }
   ],
   "source": [
    "np.linalg.det(a)"
   ]
  },
  {
   "cell_type": "code",
   "execution_count": 27,
   "metadata": {},
   "outputs": [
    {
     "data": {
      "text/plain": [
       "-2"
      ]
     },
     "execution_count": 27,
     "metadata": {},
     "output_type": "execute_result"
    }
   ],
   "source": [
    "round(np.linalg.det(a))"
   ]
  },
  {
   "cell_type": "code",
   "execution_count": 28,
   "metadata": {},
   "outputs": [
    {
     "data": {
      "text/plain": [
       "array([[1, 2, 3],\n",
       "       [4, 5, 6],\n",
       "       [7, 8, 9]])"
      ]
     },
     "execution_count": 28,
     "metadata": {},
     "output_type": "execute_result"
    }
   ],
   "source": [
    "b = np.array([[1,2,3],[4,5,6],[7,8,9]])\n",
    "b"
   ]
  },
  {
   "cell_type": "code",
   "execution_count": 29,
   "metadata": {},
   "outputs": [
    {
     "data": {
      "text/plain": [
       "0.0"
      ]
     },
     "execution_count": 29,
     "metadata": {},
     "output_type": "execute_result"
    }
   ],
   "source": [
    "np.linalg.det(b)"
   ]
  },
  {
   "cell_type": "code",
   "execution_count": 30,
   "metadata": {},
   "outputs": [],
   "source": [
    "#Python pattern program | Printing numbers in x-shape."
   ]
  },
  {
   "cell_type": "code",
   "execution_count": 34,
   "metadata": {},
   "outputs": [
    {
     "name": "stdout",
     "output_type": "stream",
     "text": [
      "Enter an odd length number: 123456\n",
      "123456     123456 \n",
      " 123456   123456  \n",
      "  123456 123456   \n",
      "  123456 123456   \n",
      " 123456   123456  \n",
      "123456     123456 \n"
     ]
    }
   ],
   "source": [
    "num = input(\"Enter an odd length number: \")\n",
    "length = len(num)\n",
    "for i in range(length):\n",
    "    for j in range(length):\n",
    "        if i==j or i+j==length-1:\n",
    "            print(num, end=\" \")\n",
    "        else:\n",
    "            print(end=\" \")\n",
    "    print()"
   ]
  },
  {
   "cell_type": "code",
   "execution_count": 35,
   "metadata": {},
   "outputs": [
    {
     "name": "stdout",
     "output_type": "stream",
     "text": [
      "Enter an odd length number: 123456\n",
      "1     1 \n",
      " 2   2  \n",
      "  3 3   \n",
      "  4 4   \n",
      " 5   5  \n",
      "6     6 \n"
     ]
    }
   ],
   "source": [
    "num = input(\"Enter an odd length number: \")\n",
    "length = len(num)\n",
    "for i in range(length):\n",
    "    for j in range(length):\n",
    "        if i==j or i+j==length-1:\n",
    "            print(num[i], end=\" \")\n",
    "        else:\n",
    "            print(end=\" \")\n",
    "    print()"
   ]
  },
  {
   "cell_type": "code",
   "execution_count": 36,
   "metadata": {},
   "outputs": [
    {
     "name": "stdout",
     "output_type": "stream",
     "text": [
      "Enter an odd length number: 123456\n",
      "1     6 \n",
      " 2   5  \n",
      "  3 4   \n",
      "  3 4   \n",
      " 2   5  \n",
      "1     6 \n"
     ]
    }
   ],
   "source": [
    "num = input(\"Enter an odd length number: \")\n",
    "length = len(num)\n",
    "for i in range(length):\n",
    "    for j in range(length):\n",
    "        if i==j or i+j==length-1:\n",
    "            print(num[j], end=\" \")\n",
    "        else:\n",
    "            print(end=\" \")\n",
    "    print()"
   ]
  },
  {
   "cell_type": "code",
   "execution_count": null,
   "metadata": {},
   "outputs": [],
   "source": []
  }
 ],
 "metadata": {
  "kernelspec": {
   "display_name": "Python 3",
   "language": "python",
   "name": "python3"
  },
  "language_info": {
   "codemirror_mode": {
    "name": "ipython",
    "version": 3
   },
   "file_extension": ".py",
   "mimetype": "text/x-python",
   "name": "python",
   "nbconvert_exporter": "python",
   "pygments_lexer": "ipython3",
   "version": "3.8.5"
  }
 },
 "nbformat": 4,
 "nbformat_minor": 4
}
