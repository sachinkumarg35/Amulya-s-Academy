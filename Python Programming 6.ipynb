{
 "cells": [
  {
   "cell_type": "code",
   "execution_count": 3,
   "metadata": {},
   "outputs": [
    {
     "name": "stdout",
     "output_type": "stream",
     "text": [
      "Enter the number of rows5\n",
      "* \n",
      "* * \n",
      "* * * \n",
      "* * * * \n",
      "* * * * * \n"
     ]
    }
   ],
   "source": [
    "#Printing stars '*' in Right triangle shape using while loop.\n",
    "num = int(input(\"Enter the number of rows\"))\n",
    "row = 0\n",
    "while num>row:\n",
    "    star = row + 1\n",
    "    while star > 0:\n",
    "        print('*', end = \" \")\n",
    "        star = star - 1\n",
    "    row = row + 1\n",
    "    print()"
   ]
  },
  {
   "cell_type": "code",
   "execution_count": 4,
   "metadata": {},
   "outputs": [
    {
     "name": "stdout",
     "output_type": "stream",
     "text": [
      "Enter the number of rows: 5\n",
      "    * \n",
      "   * * \n",
      "  * * * \n",
      " * * * * \n",
      "* * * * * \n"
     ]
    }
   ],
   "source": [
    "#Printing stars '*' in Pyramid shape using while loop.\n",
    "num = int(input(\"Enter the number of rows: \"))\n",
    "row = 0\n",
    "while row < num:\n",
    "    space = num-row-1\n",
    "    while space>0:\n",
    "        print(end=\" \")\n",
    "        space= space-1\n",
    "    star = row + 1\n",
    "    while star > 0:\n",
    "        print(\"*\", end = \" \")\n",
    "        star = star - 1\n",
    "    row = row +1\n",
    "    print()"
   ]
  },
  {
   "cell_type": "code",
   "execution_count": 5,
   "metadata": {},
   "outputs": [
    {
     "name": "stdout",
     "output_type": "stream",
     "text": [
      "Enter the number of rows: 5\n",
      "1 \n",
      "1 2 \n",
      "1 2 3 \n",
      "1 2 3 4 \n",
      "1 2 3 4 5 \n"
     ]
    }
   ],
   "source": [
    "#Printing numbers in Right Triangle shape.\n",
    "n = int(input('Enter the number of rows: '))\n",
    "for i in range(1, n+1):\n",
    "    for j in range(1, i+1):\n",
    "        print(j, end=\" \")\n",
    "    print()"
   ]
  },
  {
   "cell_type": "code",
   "execution_count": 6,
   "metadata": {},
   "outputs": [
    {
     "name": "stdout",
     "output_type": "stream",
     "text": [
      "Enter the number of rows: 5\n",
      "1 \n",
      "2 2 \n",
      "3 3 3 \n",
      "4 4 4 4 \n",
      "5 5 5 5 5 \n"
     ]
    }
   ],
   "source": [
    "n = int(input(\"Enter the number of rows: \"))\n",
    "for i in range(1, n+1):\n",
    "    for j in range(1, i+1):\n",
    "        print(i, end = \" \")\n",
    "    print()"
   ]
  },
  {
   "cell_type": "code",
   "execution_count": 7,
   "metadata": {},
   "outputs": [
    {
     "name": "stdout",
     "output_type": "stream",
     "text": [
      "Enter the number of rows: 5\n",
      "1 2 3 4 5 \n",
      "1 2 3 4 \n",
      "1 2 3 \n",
      "1 2 \n",
      "1 \n"
     ]
    }
   ],
   "source": [
    "#Printing number in Right Triangle Shape.\n",
    "n = int(input(\"Enter the number of rows: \"))\n",
    "for row in range(n, 0, -1):\n",
    "    for col in range(1, row+1):\n",
    "        print(col, end=\" \")\n",
    "    print()"
   ]
  },
  {
   "cell_type": "code",
   "execution_count": 8,
   "metadata": {},
   "outputs": [
    {
     "name": "stdout",
     "output_type": "stream",
     "text": [
      "Enter the number of rows: 5\n",
      "5 5 5 5 5 \n",
      "4 4 4 4 \n",
      "3 3 3 \n",
      "2 2 \n",
      "1 \n"
     ]
    }
   ],
   "source": [
    "n = int(input(\"Enter the number of rows: \"))\n",
    "for row in range(n, 0, -1):\n",
    "    for col in range(1, row+1):\n",
    "        print(row, end=\" \")\n",
    "    print()"
   ]
  },
  {
   "cell_type": "code",
   "execution_count": 10,
   "metadata": {},
   "outputs": [
    {
     "name": "stdout",
     "output_type": "stream",
     "text": [
      "Enter the number of rows: 5\n",
      "1 \n",
      "2 3 \n",
      "4 5 6 \n",
      "7 8 9 10 \n",
      "11 12 13 14 15 \n"
     ]
    }
   ],
   "source": [
    "#Floyd's Triangle | Printing numbers in Right angle triangle.\n",
    "n = int(input(\"Enter the number of rows: \"))\n",
    "num = 1\n",
    "for row in range(1, n+1):\n",
    "    for col in range(1, row+1):\n",
    "        print(num, end = \" \")\n",
    "        num = num +1\n",
    "    print()"
   ]
  },
  {
   "cell_type": "code",
   "execution_count": 12,
   "metadata": {},
   "outputs": [
    {
     "name": "stdout",
     "output_type": "stream",
     "text": [
      "Enter the number of rows: 5\n",
      "1 2 3 4 5 \n",
      "6 7 8 9 \n",
      "10 11 12 \n",
      "13 14 \n",
      "15 \n"
     ]
    }
   ],
   "source": [
    "n = int(input(\"Enter the number of rows: \"))\n",
    "num = 1\n",
    "for row in range(n, 0, -1):\n",
    "    for col in range(1, row+1):\n",
    "        print(num, end = \" \")\n",
    "        num = num +1\n",
    "    print()"
   ]
  },
  {
   "cell_type": "code",
   "execution_count": 4,
   "metadata": {},
   "outputs": [
    {
     "name": "stdout",
     "output_type": "stream",
     "text": [
      "Enter the number of rows: 5\n",
      "1 \n",
      "2 6 \n",
      "3 7 10 \n",
      "4 8 11 13 \n",
      "5 9 12 14 15 \n"
     ]
    }
   ],
   "source": [
    "#Printing numbers in right triangle shape | column wise.\n",
    "num = int(input('Enter the number of rows: '))\n",
    "for row in range(num):\n",
    "    val = row + 1\n",
    "    dec = num - 1\n",
    "    for col in range(row + 1):\n",
    "        print(val, end = \" \")\n",
    "        val = val + dec\n",
    "        dec = dec - 1\n",
    "    print()"
   ]
  },
  {
   "cell_type": "code",
   "execution_count": 6,
   "metadata": {},
   "outputs": [
    {
     "name": "stdout",
     "output_type": "stream",
     "text": [
      "Enter the number of rows: 5\n",
      "1 \n",
      "2 9 \n",
      "3 8 10 \n",
      "4 7 11 14 \n",
      "5 6 12 13 15 \n"
     ]
    }
   ],
   "source": [
    "#Printing numbers in Right Triangle shape 2 | Column wise\n",
    "n = int(input(\"Enter the number of rows: \"))\n",
    "for i in range(n):\n",
    "    for j in range(i+1):\n",
    "        x = 0\n",
    "        for k in range(j):\n",
    "            x = x+n-k\n",
    "        if j%2 == 0:\n",
    "            print(x+i-j+1, end = \" \")\n",
    "        else:\n",
    "            print(x+n-i, end = \" \")\n",
    "    print()"
   ]
  },
  {
   "cell_type": "code",
   "execution_count": 8,
   "metadata": {},
   "outputs": [
    {
     "name": "stdout",
     "output_type": "stream",
     "text": [
      " ** ** \n",
      "*  *  *\n",
      "*     *\n",
      " *   * \n",
      "  * *  \n",
      "   *   \n"
     ]
    }
   ],
   "source": [
    "#Printing stars '*' in heart shape.\n",
    "for row in range(6):\n",
    "    for col in range(7):\n",
    "        if (row==0 and col%3!=0) or (row==1 and col%3==0) or (row-col==2) or (row+col==8):\n",
    "            print('*', end=\"\")\n",
    "        else:\n",
    "            print(end=\" \")\n",
    "    print()"
   ]
  },
  {
   "cell_type": "code",
   "execution_count": 12,
   "metadata": {},
   "outputs": [
    {
     "name": "stdout",
     "output_type": "stream",
     "text": [
      "   *       * \n",
      "  * *     * * \n",
      " * * *   * * * \n",
      "* * * * * * * * \n",
      "* * * * * * * * \n",
      " * * * * * * * \n",
      "  * * * * * * \n",
      "   * * * * * \n",
      "    * * * * \n",
      "     * * * \n",
      "      * * \n",
      "       * \n"
     ]
    }
   ],
   "source": [
    "for i in range(4):\n",
    "    for j in range(4-i-1):\n",
    "        print(\" \", end=\"\")\n",
    "    for j in range(i+1):\n",
    "        print('* ', end=\"\")\n",
    "    for j in range(2*(4-i-1)):\n",
    "        print(\" \", end=\"\")\n",
    "    for j in range(i+1):\n",
    "        print('* ', end=\"\")\n",
    "    print()\n",
    "\n",
    "for i in range(8, 0, -1):\n",
    "    for j in range(8-i):\n",
    "        print(\" \", end=\"\")\n",
    "    for j in range(i, 0, -1):\n",
    "        print(\"* \", end=\"\")\n",
    "    print()"
   ]
  },
  {
   "cell_type": "code",
   "execution_count": 17,
   "metadata": {},
   "outputs": [
    {
     "name": "stdout",
     "output_type": "stream",
     "text": [
      "Enter the number of rows: 9\n",
      "   *        * \n",
      "  * *      * * \n",
      " * * *    * * * \n",
      "* * * *  * * * * \n",
      "* * * * * * * * * \n",
      " * * * * * * * * \n",
      "  * * * * * * * \n",
      "   * * * * * * \n",
      "    * * * * * \n",
      "     * * * * \n",
      "      * * * \n",
      "       * * \n",
      "        * \n"
     ]
    }
   ],
   "source": [
    "num = int(input(\"Enter the number of rows: \"))\n",
    "n = num//2\n",
    "for i in range(n):\n",
    "    for j in range(n-i-1):\n",
    "        print(\" \", end=\"\")\n",
    "    for j in range(i+1):\n",
    "        print(\"* \", end=\"\")\n",
    "    if num%2==0:\n",
    "        for j in range(2*(n-i-1)):\n",
    "            print(\" \", end=\"\")\n",
    "    else:\n",
    "        for j in range(2*(n-i-1)+1):\n",
    "            print(\" \", end=\"\")\n",
    "            \n",
    "    for j in range(i+1):\n",
    "        print(\"* \", end=\"\")\n",
    "        \n",
    "    print()\n",
    "    \n",
    "for i in range(num, 0, -1):\n",
    "    for j in range(num-i):\n",
    "        print(\" \", end=\"\")\n",
    "    for j in range(i, 0, -1):\n",
    "        print(\"* \", end=\"\")\n",
    "    print()"
   ]
  },
  {
   "cell_type": "code",
   "execution_count": 38,
   "metadata": {},
   "outputs": [
    {
     "name": "stdout",
     "output_type": "stream",
     "text": [
      "Enter the number of rows: 9\n",
      "Enter the msg: sachin\n",
      "   *        * \n",
      "  * *      * * \n",
      " * * *    * * * \n",
      "* * * *  * * * * \n",
      "* s a c h i n * *\n",
      "* * * * * * * * * \n",
      " * * * * * * * * \n",
      "  * * * * * * * \n",
      "   * * * * * * \n",
      "    * * * * * \n",
      "     * * * * \n",
      "      * * * \n",
      "       * * \n",
      "        * \n"
     ]
    }
   ],
   "source": [
    "#Printing names in the center of the heart.\n",
    "num = int(input(\"Enter the number of rows: \"))\n",
    "msg = input(\"Enter the msg: \")\n",
    "l = len(msg)\n",
    "n = num//2\n",
    "for i in range(n):\n",
    "    print(\" \"*(n-i-1) + \"* \"*(i+1), end=\"\" )\n",
    "    if num%2==0:\n",
    "        for j in range(2*(n-i-1)):\n",
    "            print(\" \", end=\"\")\n",
    "    else:\n",
    "        for j in range(2*(n-i-1)+1):\n",
    "            print(\" \", end=\"\")\n",
    "    for j in range(i+1):\n",
    "        print(\"* \", end=\"\")\n",
    "            \n",
    "    print()\n",
    "if num%2 == 0:\n",
    "    if l%2==0:\n",
    "        print(\"* \"*((num-l)//2) +   \" \".join(msg) + \" *\"*((num-l)//2) )\n",
    "    else:\n",
    "        print(\"* \"*((num-l)//2) +   \" \".join(msg) + \" *\"*(((num-l)//2)+1))\n",
    "        \n",
    "else: \n",
    "    if l%2==0:\n",
    "        print(\"* \"*((num-l)//2) +   \" \".join(msg) + \" *\"*(((num-l)//2)+1) )\n",
    "    else:\n",
    "        print(\"* \"*((num-l)//2) +   \" \".join(msg) + \" *\"*((num-l)//2))\n",
    "        \n",
    "for i in range(num, 0, -1):\n",
    "    print(\" \"*(num-i) + \"* \"*(i))"
   ]
  },
  {
   "cell_type": "code",
   "execution_count": 1,
   "metadata": {},
   "outputs": [
    {
     "name": "stdout",
     "output_type": "stream",
     "text": [
      "Enter the number of rows: 5\n",
      "$ $ $ $ $ \n",
      "$ $ $ $ $ \n",
      "$ $ $ $ $ \n",
      "$ $ $ $ $ \n",
      "$ $ $ $ $ \n"
     ]
    }
   ],
   "source": [
    "#Printing stars '*' in different shapes | Star Pattern.\n",
    "num = int(input(\"Enter the number of rows: \"))\n",
    "for i in range(num):\n",
    "    for j in range(num):\n",
    "        print('$', end=\" \")\n",
    "    print()"
   ]
  },
  {
   "cell_type": "code",
   "execution_count": 3,
   "metadata": {},
   "outputs": [
    {
     "name": "stdout",
     "output_type": "stream",
     "text": [
      "Enter the number of rows: 5\n",
      "* * * * * \n",
      "* * * * * \n",
      "* * * * * \n",
      "* * * * * \n",
      "* * * * * \n",
      "\n"
     ]
    }
   ],
   "source": [
    "num = int(input(\"Enter the number of rows: \"))\n",
    "for i in range(num):\n",
    "    print('* '*num)\n",
    "print()"
   ]
  },
  {
   "cell_type": "code",
   "execution_count": 4,
   "metadata": {},
   "outputs": [
    {
     "name": "stdout",
     "output_type": "stream",
     "text": [
      "Enter the number of rows: 5\n",
      "* \n",
      "* * \n",
      "* * * \n",
      "* * * * \n",
      "* * * * * \n"
     ]
    }
   ],
   "source": [
    "num = int(input(\"Enter the number of rows: \"))\n",
    "for i in range(1, num+1):\n",
    "    print('* '*i)"
   ]
  },
  {
   "cell_type": "code",
   "execution_count": 8,
   "metadata": {},
   "outputs": [
    {
     "name": "stdout",
     "output_type": "stream",
     "text": [
      "Enter the number of rows: 5\n",
      "    * \n",
      "   * * \n",
      "  * * * \n",
      " * * * * \n",
      "* * * * * \n"
     ]
    }
   ],
   "source": [
    "num = int(input(\"Enter the number of rows: \"))\n",
    "for i in range(1, num + 1):\n",
    "    print(\" \"*(num - i) + \"* \"*i)"
   ]
  },
  {
   "cell_type": "code",
   "execution_count": 14,
   "metadata": {},
   "outputs": [
    {
     "name": "stdout",
     "output_type": "stream",
     "text": [
      "Enter the number of rows: 5\n",
      "        * \n",
      "      * * \n",
      "    * * * \n",
      "  * * * * \n",
      "* * * * * \n"
     ]
    }
   ],
   "source": [
    "num = int(input(\"Enter the number of rows: \"))\n",
    "for i in range(1, num+1):\n",
    "    print(\"  \"*(num-i) + \"* \"*i)"
   ]
  },
  {
   "cell_type": "code",
   "execution_count": 13,
   "metadata": {},
   "outputs": [
    {
     "name": "stdout",
     "output_type": "stream",
     "text": [
      "Enter the number of rows: 5\n",
      "    * \n",
      "   * * \n",
      "  * * * \n",
      " * * * * \n",
      "* * * * * \n",
      "* * * * * \n",
      " * * * * \n",
      "  * * * \n",
      "   * * \n",
      "    * \n"
     ]
    }
   ],
   "source": [
    "num = int(input(\"Enter the number of rows: \"))\n",
    "for i in range(1, num+1):\n",
    "    print(\" \"*(num-i) + \"* \"*i)\n",
    "for i in range(num, 0, -1):\n",
    "    print(\" \"*(num-i) + \"* \"*i)"
   ]
  },
  {
   "cell_type": "code",
   "execution_count": 16,
   "metadata": {},
   "outputs": [
    {
     "name": "stdout",
     "output_type": "stream",
     "text": [
      "Enter the number of rows: 5\n",
      "    * \n",
      "   * * \n",
      "  * * * \n",
      " * * * * \n",
      "* * * * * \n",
      " * * * * \n",
      "  * * * \n",
      "   * * \n",
      "    * \n"
     ]
    }
   ],
   "source": [
    "num = int(input(\"Enter the number of rows: \"))\n",
    "for i in range(1, num+1):\n",
    "    print(\" \"*(num-i) + \"* \"*i)\n",
    "for i in range(num-1, 0, -1):\n",
    "    print(\" \"*(num-i) + \"* \"*i)"
   ]
  },
  {
   "cell_type": "code",
   "execution_count": 17,
   "metadata": {},
   "outputs": [
    {
     "name": "stdout",
     "output_type": "stream",
     "text": [
      "Enter the number of rows: 5\n",
      " * * * * \n",
      "  * * * \n",
      "   * * \n",
      "    * \n"
     ]
    }
   ],
   "source": [
    "num = int(input(\"Enter the number of rows: \"))\n",
    "for i in range(num-1, 0, -1):\n",
    "    print(\" \"*(num-i) + \"* \"*i)"
   ]
  },
  {
   "cell_type": "code",
   "execution_count": 19,
   "metadata": {},
   "outputs": [
    {
     "name": "stdout",
     "output_type": "stream",
     "text": [
      "Enter the number of rows: 5\n",
      "  * * * * \n",
      "    * * * \n",
      "      * * \n",
      "        * \n"
     ]
    }
   ],
   "source": [
    "num = int(input(\"Enter the number of rows: \"))\n",
    "for i in range(num-1, 0, -1):\n",
    "    print(\"  \"*(num-i) + \"* \"*i)"
   ]
  },
  {
   "cell_type": "code",
   "execution_count": 20,
   "metadata": {},
   "outputs": [
    {
     "name": "stdout",
     "output_type": "stream",
     "text": [
      "Enter the number of rows: 5\n",
      "* * * * \n",
      "* * * \n",
      "* * \n",
      "* \n"
     ]
    }
   ],
   "source": [
    "num = int(input(\"Enter the number of rows: \"))\n",
    "for i in range(num-1, 0, -1):\n",
    "    print(\"* \"*i)"
   ]
  },
  {
   "cell_type": "code",
   "execution_count": 22,
   "metadata": {},
   "outputs": [
    {
     "name": "stdout",
     "output_type": "stream",
     "text": [
      "Enter the number of rows: 5\n",
      "* \n",
      "* * \n",
      "* * * \n",
      "* * * * \n",
      "* * * * * \n",
      "* * * * * \n",
      "* * * * \n",
      "* * * \n",
      "* * \n",
      "* \n"
     ]
    }
   ],
   "source": [
    "num = int(input(\"Enter the number of rows: \"))\n",
    "for i in range(1, num+1):\n",
    "    print(\"* \"*i)\n",
    "for i in range(num, 0, -1):\n",
    "    print(\"* \"*i)"
   ]
  },
  {
   "cell_type": "code",
   "execution_count": 23,
   "metadata": {},
   "outputs": [
    {
     "name": "stdout",
     "output_type": "stream",
     "text": [
      "Enter the number of rows: 5\n",
      "* \n",
      "* * \n",
      "* * * \n",
      "* * * * \n",
      "* * * * * \n",
      "* * * * \n",
      "* * * \n",
      "* * \n",
      "* \n"
     ]
    }
   ],
   "source": [
    "num = int(input(\"Enter the number of rows: \"))\n",
    "for i in range(1, num+1):\n",
    "    print(\"* \"*i)\n",
    "for i in range(num-1, 0, -1):\n",
    "    print(\"* \"*i)"
   ]
  },
  {
   "cell_type": "code",
   "execution_count": 25,
   "metadata": {},
   "outputs": [
    {
     "name": "stdout",
     "output_type": "stream",
     "text": [
      "Enter the number of rows: 5\n",
      "         *\n",
      "       * *\n",
      "     * * *\n",
      "   * * * *\n",
      " * * * * *\n",
      "   * * * *\n",
      "     * * *\n",
      "       * *\n",
      "         *\n"
     ]
    }
   ],
   "source": [
    "num = int(input(\"Enter the number of rows: \"))\n",
    "for i in range(1, num+1):\n",
    "    print(\"  \"*(num-i) + \" *\"*i)\n",
    "for i in range(num-1, 0, -1):\n",
    "    print(\"  \"*(num-i) + \" *\"*i)"
   ]
  },
  {
   "cell_type": "code",
   "execution_count": 26,
   "metadata": {},
   "outputs": [
    {
     "name": "stdout",
     "output_type": "stream",
     "text": [
      "Enter the number of rows: 5\n",
      "        1 \n",
      "      2 1 2 \n",
      "    3 2 1 2 3 \n",
      "  4 3 2 1 2 3 4 \n",
      "5 4 3 2 1 2 3 4 5 \n"
     ]
    }
   ],
   "source": [
    "#Printing numbers in in Pyramid shape.\n",
    "num = int(input(\"Enter the number of rows: \"))\n",
    "for i in range(1, num+1):\n",
    "    for j in range(1, num-i+1):\n",
    "        print(\" \", end= \" \")\n",
    "    for j in range(i, 0, -1):\n",
    "        print(j, end=\" \")\n",
    "    for j in range(2, i+1):\n",
    "        print(j, end=\" \")\n",
    "    print()"
   ]
  },
  {
   "cell_type": "code",
   "execution_count": 32,
   "metadata": {},
   "outputs": [
    {
     "name": "stdout",
     "output_type": "stream",
     "text": [
      "Enter the number of rows: 10\n",
      "1\t2\t3\t4\t5\t6\t7\t8\t9\t10\t\n",
      "36\t37\t38\t39\t40\t41\t42\t43\t44\t11\t\n",
      "35\t64\t65\t66\t67\t68\t69\t70\t45\t12\t\n",
      "34\t63\t84\t85\t86\t87\t88\t71\t46\t13\t\n",
      "33\t62\t83\t96\t97\t98\t89\t72\t47\t14\t\n",
      "32\t61\t82\t95\t100\t99\t90\t73\t48\t15\t\n",
      "31\t60\t81\t94\t93\t92\t91\t74\t49\t16\t\n",
      "30\t59\t80\t79\t78\t77\t76\t75\t50\t17\t\n",
      "29\t58\t57\t56\t55\t54\t53\t52\t51\t18\t\n",
      "28\t27\t26\t25\t24\t23\t22\t21\t20\t19\t\n"
     ]
    }
   ],
   "source": [
    "#Printing numbers in square shape.\n",
    "num = int(input(\"Enter the number of rows: \"))\n",
    "n_list = [[0 for x in range(num)] for y in range(num)]\n",
    "n=1\n",
    "low = 0\n",
    "high = num-1\n",
    "count = int((num+1)/2)\n",
    "for i in range(count):\n",
    "    for j in range(low, high+1):\n",
    "        n_list[i][j] = n\n",
    "        n=n+1\n",
    "    for j in range(low+1, high+1):\n",
    "        n_list[j][high]=n\n",
    "        n=n+1\n",
    "    for j in range(high-1, low-1, -1):\n",
    "        n_list[high][j] = n\n",
    "        n=n+1\n",
    "    for j in range(high-1, low, -1):\n",
    "        n_list[j][low] = n\n",
    "        n=n+1\n",
    "    low=low+1\n",
    "    high=high-1\n",
    "    \n",
    "for i in range(num):\n",
    "    for j in range(num):\n",
    "        print(n_list[i][j], end=\"\\t\")\n",
    "    print()"
   ]
  },
  {
   "cell_type": "code",
   "execution_count": null,
   "metadata": {},
   "outputs": [],
   "source": []
  },
  {
   "cell_type": "code",
   "execution_count": null,
   "metadata": {},
   "outputs": [],
   "source": []
  }
 ],
 "metadata": {
  "kernelspec": {
   "display_name": "Python 3",
   "language": "python",
   "name": "python3"
  },
  "language_info": {
   "codemirror_mode": {
    "name": "ipython",
    "version": 3
   },
   "file_extension": ".py",
   "mimetype": "text/x-python",
   "name": "python",
   "nbconvert_exporter": "python",
   "pygments_lexer": "ipython3",
   "version": "3.8.5"
  }
 },
 "nbformat": 4,
 "nbformat_minor": 4
}
