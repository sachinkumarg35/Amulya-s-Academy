{
 "cells": [
  {
   "cell_type": "code",
   "execution_count": 1,
   "metadata": {},
   "outputs": [],
   "source": [
    "#Namespace and Variable scope"
   ]
  },
  {
   "cell_type": "code",
   "execution_count": 3,
   "metadata": {},
   "outputs": [
    {
     "name": "stdout",
     "output_type": "stream",
     "text": [
      "4\n"
     ]
    }
   ],
   "source": [
    "def f1():\n",
    "    x = 4\n",
    "    print(x)\n",
    "f1()"
   ]
  },
  {
   "cell_type": "code",
   "execution_count": 4,
   "metadata": {},
   "outputs": [
    {
     "name": "stdout",
     "output_type": "stream",
     "text": [
      "initially:  ['In', 'Out', '_', '_2', '__', '___', '__builtin__', '__builtins__', '__doc__', '__loader__', '__name__', '__package__', '__spec__', '_dh', '_i', '_i1', '_i2', '_i3', '_i4', '_ih', '_ii', '_iii', '_oh', 'exit', 'f1', 'get_ipython', 'quit']\n",
      "inside the function:  ['n']\n",
      "outside the function:  ['In', 'Out', '_', '_2', '__', '___', '__builtin__', '__builtins__', '__doc__', '__loader__', '__name__', '__package__', '__spec__', '_dh', '_i', '_i1', '_i2', '_i3', '_i4', '_ih', '_ii', '_iii', '_oh', 'exit', 'f1', 'get_ipython', 'num', 'quit']\n"
     ]
    }
   ],
   "source": [
    "print(\"initially: \", dir())\n",
    "num = 20\n",
    "def f1():\n",
    "    n = 10\n",
    "    print(\"inside the function: \", dir())\n",
    "f1()\n",
    "print(\"outside the function: \", dir())"
   ]
  },
  {
   "cell_type": "code",
   "execution_count": 5,
   "metadata": {},
   "outputs": [],
   "source": [
    "#LEGB Rule | Local and Global scope | Global and non local keyword"
   ]
  },
  {
   "cell_type": "code",
   "execution_count": 6,
   "metadata": {},
   "outputs": [
    {
     "name": "stdout",
     "output_type": "stream",
     "text": [
      "y 10\n",
      "x 4\n",
      "inside the function y: 10\n"
     ]
    }
   ],
   "source": [
    "y = 10 #global variable\n",
    "def inner():\n",
    "    x = 4 #local variable\n",
    "    print('x', x)\n",
    "    print('inside the function y:', y)\n",
    "print('y', y)\n",
    "inner()"
   ]
  },
  {
   "cell_type": "code",
   "execution_count": 7,
   "metadata": {},
   "outputs": [
    {
     "name": "stdout",
     "output_type": "stream",
     "text": [
      "y 10\n",
      "x 4\n",
      "inside the function y:  5\n"
     ]
    }
   ],
   "source": [
    "y = 10\n",
    "def inner():\n",
    "    x = 4\n",
    "    y = 5\n",
    "    print('x',x)\n",
    "    print('inside the function y: ', y)\n",
    "print('y', y)\n",
    "inner()"
   ]
  },
  {
   "cell_type": "code",
   "execution_count": 8,
   "metadata": {},
   "outputs": [
    {
     "name": "stdout",
     "output_type": "stream",
     "text": [
      "y 10\n",
      "x 4\n",
      "inside the function y:  11\n"
     ]
    }
   ],
   "source": [
    "y = 10\n",
    "def inner():\n",
    "    x = 4\n",
    "    global y\n",
    "    y = y+1\n",
    "    print('x', x)\n",
    "    print('inside the function y: ', y)\n",
    "print('y', y)\n",
    "inner()"
   ]
  },
  {
   "cell_type": "code",
   "execution_count": 9,
   "metadata": {},
   "outputs": [
    {
     "name": "stdout",
     "output_type": "stream",
     "text": [
      "x 4\n",
      "inside the function y:  11\n",
      "y 11\n"
     ]
    }
   ],
   "source": [
    "y = 10\n",
    "def inner():\n",
    "    x = 4\n",
    "    global y\n",
    "    y = y+1\n",
    "    print('x', x)\n",
    "    print('inside the function y: ', y)\n",
    "    \n",
    "\n",
    "inner()\n",
    "print('y', y)"
   ]
  },
  {
   "cell_type": "code",
   "execution_count": 10,
   "metadata": {},
   "outputs": [
    {
     "name": "stdout",
     "output_type": "stream",
     "text": [
      "x 4\n",
      "inside the function y:  10\n",
      "z 4\n"
     ]
    }
   ],
   "source": [
    "y = 10\n",
    "def outer(): #enclosing function\n",
    "    z = 4\n",
    "    def inner(): #Nested function\n",
    "        x = 4\n",
    "        \n",
    "        print('x', x)\n",
    "        print('inside the function y: ', y)\n",
    "    inner()\n",
    "    print('z', z)\n",
    "outer()"
   ]
  },
  {
   "cell_type": "code",
   "execution_count": 12,
   "metadata": {},
   "outputs": [
    {
     "name": "stdout",
     "output_type": "stream",
     "text": [
      "x 4\n",
      "inside the function z: 15\n",
      "z 15\n"
     ]
    }
   ],
   "source": [
    "y = 10\n",
    "def outer():\n",
    "    z = 15\n",
    "    def inner():\n",
    "        x = 4\n",
    "        print('x', x)\n",
    "        print('inside the function z:', z)\n",
    "    inner()\n",
    "    print('z', z)\n",
    "outer()"
   ]
  },
  {
   "cell_type": "code",
   "execution_count": 13,
   "metadata": {},
   "outputs": [
    {
     "name": "stdout",
     "output_type": "stream",
     "text": [
      "x 4\n",
      "inside the function y: 10\n",
      "z 16\n"
     ]
    }
   ],
   "source": [
    "y = 10\n",
    "def outer():\n",
    "    z = 15\n",
    "    def inner():\n",
    "        x = 4 #local\n",
    "        nonlocal z\n",
    "        z = z+1\n",
    "        print('x',x)\n",
    "        print('inside the function y:', y)\n",
    "    inner()\n",
    "    print('z',z)\n",
    "outer()"
   ]
  },
  {
   "cell_type": "code",
   "execution_count": 14,
   "metadata": {},
   "outputs": [],
   "source": [
    "#Built in scope"
   ]
  },
  {
   "cell_type": "code",
   "execution_count": 16,
   "metadata": {},
   "outputs": [
    {
     "name": "stdout",
     "output_type": "stream",
     "text": [
      "x: 15\n"
     ]
    }
   ],
   "source": [
    "x = 5\n",
    "def function():\n",
    "    x = 10\n",
    "    def inner():\n",
    "        x = 15\n",
    "        print('x:', x)\n",
    "    inner()\n",
    "function()"
   ]
  },
  {
   "cell_type": "code",
   "execution_count": 17,
   "metadata": {},
   "outputs": [
    {
     "name": "stdout",
     "output_type": "stream",
     "text": [
      "x: 10\n"
     ]
    }
   ],
   "source": [
    "x = 5\n",
    "def function():\n",
    "    x = 10\n",
    "    def inner():\n",
    "        #x = 15\n",
    "        print('x:', x)\n",
    "    inner()\n",
    "function()"
   ]
  },
  {
   "cell_type": "code",
   "execution_count": 18,
   "metadata": {},
   "outputs": [
    {
     "name": "stdout",
     "output_type": "stream",
     "text": [
      "x:  5\n"
     ]
    }
   ],
   "source": [
    "x = 5\n",
    "def function():\n",
    "    #x = 10\n",
    "    def inner():\n",
    "        #x = 15\n",
    "        print('x: ', x)\n",
    "    inner()\n",
    "function()"
   ]
  },
  {
   "cell_type": "code",
   "execution_count": 1,
   "metadata": {},
   "outputs": [],
   "source": [
    "#Closure | Nested function"
   ]
  },
  {
   "cell_type": "code",
   "execution_count": 2,
   "metadata": {},
   "outputs": [
    {
     "name": "stdout",
     "output_type": "stream",
     "text": [
      "3\n"
     ]
    }
   ],
   "source": [
    "def outer():\n",
    "    x = 3\n",
    "    def inner():\n",
    "        print(x)\n",
    "    inner()\n",
    "outer()"
   ]
  },
  {
   "cell_type": "code",
   "execution_count": 3,
   "metadata": {},
   "outputs": [],
   "source": [
    "#Functions are objects"
   ]
  },
  {
   "cell_type": "code",
   "execution_count": 4,
   "metadata": {},
   "outputs": [
    {
     "name": "stdout",
     "output_type": "stream",
     "text": [
      "Hai\n"
     ]
    }
   ],
   "source": [
    "def f():\n",
    "    print(\"Hai\")\n",
    "f()"
   ]
  },
  {
   "cell_type": "code",
   "execution_count": 5,
   "metadata": {},
   "outputs": [
    {
     "name": "stdout",
     "output_type": "stream",
     "text": [
      "6\n"
     ]
    }
   ],
   "source": [
    "def outer():\n",
    "    x = 3\n",
    "    def inner():\n",
    "        y = 3\n",
    "        result = x + y\n",
    "        return result\n",
    "    return inner()\n",
    "a = outer()\n",
    "print(a)"
   ]
  },
  {
   "cell_type": "code",
   "execution_count": 6,
   "metadata": {},
   "outputs": [
    {
     "name": "stdout",
     "output_type": "stream",
     "text": [
      "hello\n"
     ]
    }
   ],
   "source": [
    "def outer():\n",
    "    msg = \"hello\"\n",
    "    def inner():\n",
    "        print(msg)\n",
    "    return inner\n",
    "a = outer()\n",
    "a()"
   ]
  },
  {
   "cell_type": "code",
   "execution_count": 7,
   "metadata": {},
   "outputs": [],
   "source": [
    "#Decorators Part-1 | Introduction | Functions | Examples"
   ]
  },
  {
   "cell_type": "code",
   "execution_count": 8,
   "metadata": {},
   "outputs": [
    {
     "name": "stdout",
     "output_type": "stream",
     "text": [
      "Hai I am function2 now I will call function1\n",
      "Hai I am sachin\n"
     ]
    }
   ],
   "source": [
    "def function1():\n",
    "    print(\"Hai I am sachin\")\n",
    "def function2(func):\n",
    "    print(\"Hai I am function2 now I will call function1\")\n",
    "    func()\n",
    "function2(function1)"
   ]
  },
  {
   "cell_type": "code",
   "execution_count": 10,
   "metadata": {},
   "outputs": [
    {
     "name": "stdout",
     "output_type": "stream",
     "text": [
      "Good morning\n"
     ]
    }
   ],
   "source": [
    "def print_str():\n",
    "    return \"Good morning\"\n",
    "print(print_str())"
   ]
  },
  {
   "cell_type": "code",
   "execution_count": 1,
   "metadata": {},
   "outputs": [
    {
     "name": "stdout",
     "output_type": "stream",
     "text": [
      "good morning\n",
      "GOOD MORNING\n"
     ]
    }
   ],
   "source": [
    "def str_upper(func):\n",
    "    def inner():\n",
    "        str = func()\n",
    "        return str.upper()\n",
    "    return inner\n",
    "\n",
    "def print_str():\n",
    "    return \"good morning\"\n",
    "print(print_str())\n",
    "\n",
    "d = str_upper(print_str)\n",
    "print(d())"
   ]
  },
  {
   "cell_type": "code",
   "execution_count": 2,
   "metadata": {},
   "outputs": [
    {
     "name": "stdout",
     "output_type": "stream",
     "text": [
      "GOOD MORNING\n"
     ]
    }
   ],
   "source": [
    "def str_upper(func):\n",
    "    def inner():\n",
    "        str = func()\n",
    "        return str.upper()\n",
    "    return inner\n",
    "\n",
    "@str_upper\n",
    "def print_str():\n",
    "    return \"good morning\"\n",
    "\n",
    "print(print_str())"
   ]
  },
  {
   "cell_type": "code",
   "execution_count": 7,
   "metadata": {},
   "outputs": [
    {
     "name": "stdout",
     "output_type": "stream",
     "text": [
      "GOOD MORNING\n"
     ]
    }
   ],
   "source": [
    "def str_upper(func):\n",
    "    def inner():\n",
    "        str = func()\n",
    "        return str.upper()\n",
    "    return inner()\n",
    "\n",
    "@str_upper\n",
    "def print_str():\n",
    "    return \"good morning\"\n",
    "\n",
    "print(print_str)"
   ]
  },
  {
   "cell_type": "code",
   "execution_count": 4,
   "metadata": {},
   "outputs": [
    {
     "name": "stdout",
     "output_type": "stream",
     "text": [
      "1.6666666666666667\n"
     ]
    }
   ],
   "source": [
    "def div(a, b):\n",
    "    return a/b\n",
    "print(div(5, 3))"
   ]
  },
  {
   "cell_type": "code",
   "execution_count": 6,
   "metadata": {},
   "outputs": [
    {
     "name": "stdout",
     "output_type": "stream",
     "text": [
      "give proper input\n"
     ]
    }
   ],
   "source": [
    "def div_decorator(func):\n",
    "    def inner(x, y):\n",
    "        if y==0:\n",
    "            return \"give proper input\"\n",
    "        return func(x, y)\n",
    "    return inner\n",
    "\n",
    "@div_decorator\n",
    "def div(a, b):\n",
    "    return a/b\n",
    "print(div(5, 0))"
   ]
  },
  {
   "cell_type": "code",
   "execution_count": 9,
   "metadata": {},
   "outputs": [],
   "source": [
    "#Decorators part-2 | Multiple Decorators | General Decorators | Parameters"
   ]
  },
  {
   "cell_type": "code",
   "execution_count": 11,
   "metadata": {},
   "outputs": [
    {
     "name": "stdout",
     "output_type": "stream",
     "text": [
      "['GOOD', 'MORNING']\n"
     ]
    }
   ],
   "source": [
    "def upper_d(func):\n",
    "    def inner():\n",
    "        str1 = func()\n",
    "        return str1.upper()\n",
    "    return inner\n",
    "\n",
    "def split_d(func):\n",
    "    def wrapper():\n",
    "        str2 = func()\n",
    "        return str2.split()\n",
    "    return wrapper\n",
    "\n",
    "@split_d\n",
    "@upper_d\n",
    "def ordinary():\n",
    "    return \"good morning\"\n",
    "\n",
    "print(ordinary())"
   ]
  },
  {
   "cell_type": "code",
   "execution_count": 12,
   "metadata": {},
   "outputs": [],
   "source": [
    "#Multiple decorator"
   ]
  },
  {
   "cell_type": "code",
   "execution_count": 15,
   "metadata": {},
   "outputs": [
    {
     "name": "stdout",
     "output_type": "stream",
     "text": [
      "first second good morning second first \n"
     ]
    }
   ],
   "source": [
    "def upper_d(func):\n",
    "    def inner():\n",
    "        return \"first \" + func() + \" first \"\n",
    "    return inner\n",
    "\n",
    "def split_d(func):\n",
    "    def wrapper():\n",
    "        return \"second \" + func() + \" second\"\n",
    "    return wrapper\n",
    "\n",
    "@upper_d\n",
    "@split_d\n",
    "def ordinary():\n",
    "    return \"good morning\"\n",
    "\n",
    "print(ordinary())"
   ]
  },
  {
   "cell_type": "code",
   "execution_count": 16,
   "metadata": {},
   "outputs": [],
   "source": [
    "#Decorator parameter"
   ]
  },
  {
   "cell_type": "code",
   "execution_count": 18,
   "metadata": {},
   "outputs": [
    {
     "name": "stdout",
     "output_type": "stream",
     "text": [
      "good morning sachin\n"
     ]
    }
   ],
   "source": [
    "def outer(expr):\n",
    "    def upper_d(func):\n",
    "        def inner():\n",
    "            return func() + expr\n",
    "        return inner\n",
    "    return upper_d\n",
    "\n",
    "@outer(\"sachin\")\n",
    "def ordinary():\n",
    "    return \"good morning \"\n",
    "\n",
    "print(ordinary())"
   ]
  },
  {
   "cell_type": "code",
   "execution_count": 19,
   "metadata": {},
   "outputs": [],
   "source": [
    "#It can be used in multiple function"
   ]
  },
  {
   "cell_type": "code",
   "execution_count": 17,
   "metadata": {},
   "outputs": [
    {
     "ename": "TypeError",
     "evalue": "'NoneType' object is not callable",
     "output_type": "error",
     "traceback": [
      "\u001b[1;31m---------------------------------------------------------------------------\u001b[0m",
      "\u001b[1;31mTypeError\u001b[0m                                 Traceback (most recent call last)",
      "\u001b[1;32m<ipython-input-17-c776290bd5e8>\u001b[0m in \u001b[0;36m<module>\u001b[1;34m\u001b[0m\n\u001b[0;32m     19\u001b[0m     \u001b[1;32mreturn\u001b[0m \u001b[0ma\u001b[0m\u001b[1;33m/\u001b[0m\u001b[0mb\u001b[0m\u001b[1;33m/\u001b[0m\u001b[0mc\u001b[0m\u001b[1;33m\u001b[0m\u001b[1;33m\u001b[0m\u001b[0m\n\u001b[0;32m     20\u001b[0m \u001b[1;33m\u001b[0m\u001b[0m\n\u001b[1;32m---> 21\u001b[1;33m \u001b[0mprint\u001b[0m\u001b[1;33m(\u001b[0m\u001b[0mdiv1\u001b[0m\u001b[1;33m(\u001b[0m\u001b[1;36m10\u001b[0m\u001b[1;33m,\u001b[0m \u001b[1;36m5\u001b[0m\u001b[1;33m)\u001b[0m\u001b[1;33m)\u001b[0m\u001b[1;33m\u001b[0m\u001b[1;33m\u001b[0m\u001b[0m\n\u001b[0m\u001b[0;32m     22\u001b[0m \u001b[0mprint\u001b[0m\u001b[1;33m(\u001b[0m\u001b[0mdiv2\u001b[0m\u001b[1;33m(\u001b[0m\u001b[1;36m0\u001b[0m\u001b[1;33m,\u001b[0m \u001b[1;36m10\u001b[0m\u001b[1;33m,\u001b[0m \u001b[1;36m5\u001b[0m\u001b[1;33m)\u001b[0m\u001b[1;33m)\u001b[0m\u001b[1;33m\u001b[0m\u001b[1;33m\u001b[0m\u001b[0m\n",
      "\u001b[1;31mTypeError\u001b[0m: 'NoneType' object is not callable"
     ]
    }
   ],
   "source": [
    "def div_decorator(func):\n",
    "    def inner(*args):\n",
    "        list1 = []\n",
    "        list1 = args[1:]\n",
    "        for i in list1:\n",
    "            if i==0:\n",
    "                return \"give proper input!\"\n",
    "            else:\n",
    "                return func(*args)\n",
    "        else: \n",
    "            return inner\n",
    "\n",
    "@div_decorator\n",
    "def div1(a,b):\n",
    "    return a/b\n",
    "\n",
    "@div_decorator\n",
    "def div2(a, b, c):\n",
    "    return a/b/c\n",
    "\n",
    "print(div1(10, 5))\n",
    "print(div2(0, 10, 5))"
   ]
  },
  {
   "cell_type": "code",
   "execution_count": 3,
   "metadata": {},
   "outputs": [],
   "source": [
    "#Decorators part-3 | Class decorators"
   ]
  },
  {
   "cell_type": "code",
   "execution_count": 5,
   "metadata": {},
   "outputs": [
    {
     "name": "stdout",
     "output_type": "stream",
     "text": [
      "greet\n"
     ]
    }
   ],
   "source": [
    "import functools\n",
    "def decorator(func):\n",
    "    @functools.wraps(func)\n",
    "    def inner():\n",
    "        str1 = func()\n",
    "        return str1.upper()\n",
    "    return inner\n",
    "\n",
    "@decorator\n",
    "def greet():\n",
    "    return \"good morning\"\n",
    "\n",
    "print(greet.__name__)"
   ]
  },
  {
   "cell_type": "code",
   "execution_count": 6,
   "metadata": {},
   "outputs": [
    {
     "name": "stdout",
     "output_type": "stream",
     "text": [
      "Entered user name is sachin\n"
     ]
    }
   ],
   "source": [
    "class Printing:\n",
    "    def __init__(self, name):\n",
    "        self.name = name\n",
    "        \n",
    "    def print_name(self):\n",
    "        print(\"Entered user name is\", self.name)\n",
    "\n",
    "p = Printing(\"sachin\")\n",
    "p.print_name()"
   ]
  },
  {
   "cell_type": "code",
   "execution_count": 2,
   "metadata": {},
   "outputs": [
    {
     "name": "stdout",
     "output_type": "stream",
     "text": [
      "Hey my name is also same!\n"
     ]
    }
   ],
   "source": [
    "def check_name(method):\n",
    "    def inner(name_ref):\n",
    "        if name_ref.name ==\"sachin\":\n",
    "            print(\"Hey my name is also same!\")\n",
    "        else:\n",
    "            method(name_ref)\n",
    "    return inner\n",
    "\n",
    "class Printing:\n",
    "    def __init__(self, name):\n",
    "        self.name = name\n",
    "     \n",
    "    @check_name\n",
    "    def print_name(self):\n",
    "        print(\"Entered user name is\", self.name)\n",
    "\n",
    "p = Printing(\"sachin\")\n",
    "p.print_name()"
   ]
  },
  {
   "cell_type": "code",
   "execution_count": 4,
   "metadata": {},
   "outputs": [
    {
     "name": "stdout",
     "output_type": "stream",
     "text": [
      "Entered user name is sachin\n"
     ]
    }
   ],
   "source": [
    "class Printing:\n",
    "    def __init__(self, name):\n",
    "        self.name = name\n",
    "        \n",
    "    def __call__(self):\n",
    "        print(\"Entered user name is\", self.name)\n",
    "\n",
    "p = Printing(\"sachin\")\n",
    "p()"
   ]
  },
  {
   "cell_type": "code",
   "execution_count": 5,
   "metadata": {},
   "outputs": [
    {
     "name": "stdout",
     "output_type": "stream",
     "text": [
      "GOOD MORNING\n"
     ]
    }
   ],
   "source": [
    "class Decorator:\n",
    "    def __init__(self, func):\n",
    "        self.func = func\n",
    "    def __call__(self):\n",
    "        str1 = self.func()\n",
    "        return str1.upper()\n",
    "\n",
    "@Decorator\n",
    "def greet():\n",
    "    return \"good morning\"\n",
    "print(greet())"
   ]
  },
  {
   "cell_type": "code",
   "execution_count": 6,
   "metadata": {},
   "outputs": [
    {
     "name": "stdout",
     "output_type": "stream",
     "text": [
      "You can't devide change the input\n"
     ]
    }
   ],
   "source": [
    "class Check_div:\n",
    "    def __init__(self, func):\n",
    "        self.func = func\n",
    "    def __call__(self, *args, **kwargs):\n",
    "        if args[1] ==0:\n",
    "            return \"You can't devide change the input\"\n",
    "        else:\n",
    "            self.func(*args, **kwargs)\n",
    "            \n",
    "@Check_div\n",
    "def div(a, b):\n",
    "    return a/b\n",
    "print(div(10, 0))"
   ]
  },
  {
   "cell_type": "code",
   "execution_count": 13,
   "metadata": {},
   "outputs": [
    {
     "name": "stdout",
     "output_type": "stream",
     "text": [
      "1.0\n",
      "0.2\n"
     ]
    }
   ],
   "source": [
    "class Check_div:\n",
    "    def __init__(self, func):\n",
    "        self.func = func\n",
    "    def __call__(self, *args, **kwargs):\n",
    "        list = []\n",
    "        list = args[1:]\n",
    "        for i in list:\n",
    "            if i == 0:\n",
    "                return \"You can't devide change the input!\"\n",
    "            \n",
    "        else:\n",
    "            return self.func(*args, **kwargs)\n",
    "                \n",
    "@Check_div\n",
    "def div(a, b):\n",
    "    return a/b\n",
    "\n",
    "@Check_div\n",
    "def div1(a, b, c):\n",
    "    return a/b/c\n",
    "\n",
    "print(div(10, 10))\n",
    "print(div1(10, 10, 5))"
   ]
  },
  {
   "cell_type": "code",
   "execution_count": 18,
   "metadata": {},
   "outputs": [],
   "source": [
    "#Copy | Part -1 | Assignment operators | Example"
   ]
  },
  {
   "cell_type": "code",
   "execution_count": 19,
   "metadata": {},
   "outputs": [
    {
     "data": {
      "text/plain": [
       "[1, 2, 3, 4]"
      ]
     },
     "execution_count": 19,
     "metadata": {},
     "output_type": "execute_result"
    }
   ],
   "source": [
    "list1 = [1, 2, 3, 4]\n",
    "list2 = list1\n",
    "list2"
   ]
  },
  {
   "cell_type": "code",
   "execution_count": 20,
   "metadata": {},
   "outputs": [
    {
     "data": {
      "text/plain": [
       "[1, 2, 3, 4, 10]"
      ]
     },
     "execution_count": 20,
     "metadata": {},
     "output_type": "execute_result"
    }
   ],
   "source": [
    "list2.append(10)\n",
    "list2"
   ]
  },
  {
   "cell_type": "code",
   "execution_count": 21,
   "metadata": {},
   "outputs": [
    {
     "data": {
      "text/plain": [
       "[1, 2, 3, 4, 10]"
      ]
     },
     "execution_count": 21,
     "metadata": {},
     "output_type": "execute_result"
    }
   ],
   "source": [
    "list1"
   ]
  },
  {
   "cell_type": "code",
   "execution_count": 24,
   "metadata": {},
   "outputs": [
    {
     "data": {
      "text/plain": [
       "True"
      ]
     },
     "execution_count": 24,
     "metadata": {},
     "output_type": "execute_result"
    }
   ],
   "source": [
    "id(list1) == id(list2)"
   ]
  },
  {
   "cell_type": "code",
   "execution_count": 25,
   "metadata": {},
   "outputs": [],
   "source": [
    "#Copy | Part-2 | Shallow copy | Example"
   ]
  },
  {
   "cell_type": "code",
   "execution_count": 26,
   "metadata": {},
   "outputs": [
    {
     "data": {
      "text/plain": [
       "[1, 2, 3, 4]"
      ]
     },
     "execution_count": 26,
     "metadata": {},
     "output_type": "execute_result"
    }
   ],
   "source": [
    "list1 = [1, 2, 3, 4]\n",
    "list2 = list(list1)\n",
    "list2"
   ]
  },
  {
   "cell_type": "code",
   "execution_count": 28,
   "metadata": {},
   "outputs": [
    {
     "data": {
      "text/plain": [
       "[1, 2, 3, 4, 10, 'a']"
      ]
     },
     "execution_count": 28,
     "metadata": {},
     "output_type": "execute_result"
    }
   ],
   "source": [
    "list2.append(\"a\")\n",
    "list2"
   ]
  },
  {
   "cell_type": "code",
   "execution_count": 33,
   "metadata": {},
   "outputs": [],
   "source": [
    "list2.remove(4)"
   ]
  },
  {
   "cell_type": "code",
   "execution_count": 34,
   "metadata": {},
   "outputs": [
    {
     "data": {
      "text/plain": [
       "[1, 2, 3, 'a']"
      ]
     },
     "execution_count": 34,
     "metadata": {},
     "output_type": "execute_result"
    }
   ],
   "source": [
    "list2"
   ]
  },
  {
   "cell_type": "code",
   "execution_count": 35,
   "metadata": {},
   "outputs": [
    {
     "data": {
      "text/plain": [
       "[1, 2, 3, 4]"
      ]
     },
     "execution_count": 35,
     "metadata": {},
     "output_type": "execute_result"
    }
   ],
   "source": [
    "list1"
   ]
  },
  {
   "cell_type": "code",
   "execution_count": 39,
   "metadata": {},
   "outputs": [],
   "source": [
    "list2.insert(3, '4')"
   ]
  },
  {
   "cell_type": "code",
   "execution_count": 40,
   "metadata": {},
   "outputs": [
    {
     "data": {
      "text/plain": [
       "[1, 2, 3, '4', 'a', '4']"
      ]
     },
     "execution_count": 40,
     "metadata": {},
     "output_type": "execute_result"
    }
   ],
   "source": [
    "list2"
   ]
  },
  {
   "cell_type": "code",
   "execution_count": 43,
   "metadata": {},
   "outputs": [
    {
     "data": {
      "text/plain": [
       "'4'"
      ]
     },
     "execution_count": 43,
     "metadata": {},
     "output_type": "execute_result"
    }
   ],
   "source": [
    "list2.pop(5)"
   ]
  },
  {
   "cell_type": "code",
   "execution_count": 44,
   "metadata": {},
   "outputs": [
    {
     "data": {
      "text/plain": [
       "[1, 2, 3, '4', 'a']"
      ]
     },
     "execution_count": 44,
     "metadata": {},
     "output_type": "execute_result"
    }
   ],
   "source": [
    "list2"
   ]
  },
  {
   "cell_type": "code",
   "execution_count": 45,
   "metadata": {},
   "outputs": [
    {
     "data": {
      "text/plain": [
       "[1, 2, 3, 4]"
      ]
     },
     "execution_count": 45,
     "metadata": {},
     "output_type": "execute_result"
    }
   ],
   "source": [
    "list1"
   ]
  },
  {
   "cell_type": "code",
   "execution_count": 46,
   "metadata": {},
   "outputs": [
    {
     "data": {
      "text/plain": [
       "[1, 2, 3, 4]"
      ]
     },
     "execution_count": 46,
     "metadata": {},
     "output_type": "execute_result"
    }
   ],
   "source": [
    "list1 = [1, 2, 3, 4]\n",
    "list2 = list1[:]\n",
    "list2"
   ]
  },
  {
   "cell_type": "code",
   "execution_count": 48,
   "metadata": {},
   "outputs": [
    {
     "data": {
      "text/plain": [
       "['sachin', 2, 3, 4]"
      ]
     },
     "execution_count": 48,
     "metadata": {},
     "output_type": "execute_result"
    }
   ],
   "source": [
    "list2[0] = \"sachin\"\n",
    "list2"
   ]
  },
  {
   "cell_type": "code",
   "execution_count": 49,
   "metadata": {},
   "outputs": [
    {
     "data": {
      "text/plain": [
       "[1, 2, 3, 4]"
      ]
     },
     "execution_count": 49,
     "metadata": {},
     "output_type": "execute_result"
    }
   ],
   "source": [
    "list1"
   ]
  },
  {
   "cell_type": "code",
   "execution_count": 51,
   "metadata": {},
   "outputs": [
    {
     "data": {
      "text/plain": [
       "[1, 2, 3, 4]"
      ]
     },
     "execution_count": 51,
     "metadata": {},
     "output_type": "execute_result"
    }
   ],
   "source": [
    "list1 = [1, 2, 3,  4]\n",
    "list2 = [x for x in list1]\n",
    "list2"
   ]
  },
  {
   "cell_type": "code",
   "execution_count": 52,
   "metadata": {},
   "outputs": [
    {
     "data": {
      "text/plain": [
       "[1, 2, 3, 's']"
      ]
     },
     "execution_count": 52,
     "metadata": {},
     "output_type": "execute_result"
    }
   ],
   "source": [
    "list2[3] = 's'\n",
    "list2"
   ]
  },
  {
   "cell_type": "code",
   "execution_count": 53,
   "metadata": {},
   "outputs": [
    {
     "data": {
      "text/plain": [
       "[1, 2, 3, 4]"
      ]
     },
     "execution_count": 53,
     "metadata": {},
     "output_type": "execute_result"
    }
   ],
   "source": [
    "list1"
   ]
  },
  {
   "cell_type": "code",
   "execution_count": 1,
   "metadata": {},
   "outputs": [
    {
     "data": {
      "text/plain": [
       "[1, 2, 3, 4]"
      ]
     },
     "execution_count": 1,
     "metadata": {},
     "output_type": "execute_result"
    }
   ],
   "source": [
    "import copy\n",
    "list1 = [1, 2, 3, 4]\n",
    "list2 = copy.copy(list1)\n",
    "list2"
   ]
  },
  {
   "cell_type": "code",
   "execution_count": 2,
   "metadata": {},
   "outputs": [
    {
     "data": {
      "text/plain": [
       "[1, 2, 3, 4, 'hello']"
      ]
     },
     "execution_count": 2,
     "metadata": {},
     "output_type": "execute_result"
    }
   ],
   "source": [
    "list2.append('hello')\n",
    "list2"
   ]
  },
  {
   "cell_type": "code",
   "execution_count": 3,
   "metadata": {},
   "outputs": [
    {
     "data": {
      "text/plain": [
       "[1, 2, 3, 4]"
      ]
     },
     "execution_count": 3,
     "metadata": {},
     "output_type": "execute_result"
    }
   ],
   "source": [
    "list1"
   ]
  },
  {
   "cell_type": "code",
   "execution_count": 4,
   "metadata": {},
   "outputs": [
    {
     "data": {
      "text/plain": [
       "False"
      ]
     },
     "execution_count": 4,
     "metadata": {},
     "output_type": "execute_result"
    }
   ],
   "source": [
    "id(list1) == id(list2)"
   ]
  },
  {
   "cell_type": "code",
   "execution_count": 5,
   "metadata": {},
   "outputs": [
    {
     "data": {
      "text/plain": [
       "[[1, 2], 3, 4]"
      ]
     },
     "execution_count": 5,
     "metadata": {},
     "output_type": "execute_result"
    }
   ],
   "source": [
    "list1 = [[1,2] , 3, 4]\n",
    "list2= copy.copy(list1)\n",
    "list2"
   ]
  },
  {
   "cell_type": "code",
   "execution_count": 6,
   "metadata": {},
   "outputs": [
    {
     "data": {
      "text/plain": [
       "[[1, 2], 3, 4, 'a']"
      ]
     },
     "execution_count": 6,
     "metadata": {},
     "output_type": "execute_result"
    }
   ],
   "source": [
    "list2.append('a')\n",
    "list2"
   ]
  },
  {
   "cell_type": "code",
   "execution_count": 7,
   "metadata": {},
   "outputs": [
    {
     "data": {
      "text/plain": [
       "[[1, 2], 3, 4]"
      ]
     },
     "execution_count": 7,
     "metadata": {},
     "output_type": "execute_result"
    }
   ],
   "source": [
    "list1"
   ]
  },
  {
   "cell_type": "code",
   "execution_count": 8,
   "metadata": {},
   "outputs": [
    {
     "data": {
      "text/plain": [
       "[[1, 'a'], 3, 4, 'a']"
      ]
     },
     "execution_count": 8,
     "metadata": {},
     "output_type": "execute_result"
    }
   ],
   "source": [
    "list2[0][1] = 'a'\n",
    "list2"
   ]
  },
  {
   "cell_type": "code",
   "execution_count": 9,
   "metadata": {},
   "outputs": [
    {
     "data": {
      "text/plain": [
       "[[1, 'a'], 3, 4]"
      ]
     },
     "execution_count": 9,
     "metadata": {},
     "output_type": "execute_result"
    }
   ],
   "source": [
    "list1"
   ]
  },
  {
   "cell_type": "code",
   "execution_count": 11,
   "metadata": {},
   "outputs": [],
   "source": [
    "#Copy | Part-3 | Deep Copy | Example"
   ]
  },
  {
   "cell_type": "code",
   "execution_count": 12,
   "metadata": {},
   "outputs": [
    {
     "data": {
      "text/plain": [
       "[1, 2, 3, 4]"
      ]
     },
     "execution_count": 12,
     "metadata": {},
     "output_type": "execute_result"
    }
   ],
   "source": [
    "import copy\n",
    "list1 = [1,2,3,4]\n",
    "list2 = copy.deepcopy(list1)\n",
    "list2"
   ]
  },
  {
   "cell_type": "code",
   "execution_count": 13,
   "metadata": {},
   "outputs": [
    {
     "data": {
      "text/plain": [
       "False"
      ]
     },
     "execution_count": 13,
     "metadata": {},
     "output_type": "execute_result"
    }
   ],
   "source": [
    "id(list1) == id(list2)"
   ]
  },
  {
   "cell_type": "code",
   "execution_count": 14,
   "metadata": {},
   "outputs": [
    {
     "data": {
      "text/plain": [
       "[1, 2, 3, 4, 10]"
      ]
     },
     "execution_count": 14,
     "metadata": {},
     "output_type": "execute_result"
    }
   ],
   "source": [
    "list2.append(10)\n",
    "list2"
   ]
  },
  {
   "cell_type": "code",
   "execution_count": 15,
   "metadata": {},
   "outputs": [
    {
     "data": {
      "text/plain": [
       "[1, 2, 3, 4]"
      ]
     },
     "execution_count": 15,
     "metadata": {},
     "output_type": "execute_result"
    }
   ],
   "source": [
    "list1"
   ]
  },
  {
   "cell_type": "code",
   "execution_count": 16,
   "metadata": {},
   "outputs": [
    {
     "data": {
      "text/plain": [
       "[[1, 2], 3, 4]"
      ]
     },
     "execution_count": 16,
     "metadata": {},
     "output_type": "execute_result"
    }
   ],
   "source": [
    "list1 = [[1,2],3,4]\n",
    "list2 = copy.deepcopy(list1)\n",
    "list2"
   ]
  },
  {
   "cell_type": "code",
   "execution_count": 17,
   "metadata": {},
   "outputs": [
    {
     "data": {
      "text/plain": [
       "False"
      ]
     },
     "execution_count": 17,
     "metadata": {},
     "output_type": "execute_result"
    }
   ],
   "source": [
    "id(list1) == id(list2)"
   ]
  },
  {
   "cell_type": "code",
   "execution_count": 18,
   "metadata": {},
   "outputs": [
    {
     "data": {
      "text/plain": [
       "[['sachin', 2], 3, 4]"
      ]
     },
     "execution_count": 18,
     "metadata": {},
     "output_type": "execute_result"
    }
   ],
   "source": [
    "list2[0][0] = 'sachin'\n",
    "list2"
   ]
  },
  {
   "cell_type": "code",
   "execution_count": 19,
   "metadata": {},
   "outputs": [
    {
     "data": {
      "text/plain": [
       "[[1, 2], 3, 4]"
      ]
     },
     "execution_count": 19,
     "metadata": {},
     "output_type": "execute_result"
    }
   ],
   "source": [
    "list1"
   ]
  },
  {
   "cell_type": "code",
   "execution_count": 21,
   "metadata": {},
   "outputs": [],
   "source": [
    "#Property  | Decorators | Part-1"
   ]
  },
  {
   "cell_type": "code",
   "execution_count": 24,
   "metadata": {},
   "outputs": [
    {
     "name": "stdout",
     "output_type": "stream",
     "text": [
      "name Mac\n",
      "grade A\n",
      "Mac got grade A\n"
     ]
    }
   ],
   "source": [
    "class Student:\n",
    "    def __init__(self, name, grade):\n",
    "        self.name = name\n",
    "        self.grade = grade\n",
    "    \n",
    "    def msg(self):\n",
    "        return self.name + \" got grade \" + self.grade\n",
    "    \n",
    "studt1 = Student(\"Mac\", \"B\")\n",
    "studt1.grade = \"A\"\n",
    "print('name' , studt1.name)\n",
    "print('grade', studt1.grade)\n",
    "print(studt1.msg())"
   ]
  },
  {
   "cell_type": "code",
   "execution_count": 26,
   "metadata": {},
   "outputs": [
    {
     "name": "stdout",
     "output_type": "stream",
     "text": [
      "name Mac\n",
      "grade A\n",
      "Mac got grade A\n"
     ]
    }
   ],
   "source": [
    "class Student:\n",
    "    def __init__(self, name, grade):\n",
    "        self.name = name\n",
    "        self.grade = grade\n",
    "    \n",
    "    @property\n",
    "    def msg(self):\n",
    "        return self.name + \" got grade \" + self.grade\n",
    "    \n",
    "studt1 = Student(\"Mac\", \"B\")\n",
    "studt1.grade = \"A\"\n",
    "print('name' , studt1.name)\n",
    "print('grade', studt1.grade)\n",
    "print(studt1.msg)"
   ]
  },
  {
   "cell_type": "code",
   "execution_count": 28,
   "metadata": {},
   "outputs": [
    {
     "name": "stdout",
     "output_type": "stream",
     "text": [
      "['sachin', 'got', 'A']\n",
      "name sachin\n",
      "grade A\n",
      "sachin got grade A\n"
     ]
    }
   ],
   "source": [
    "class Student:\n",
    "    def __init__(self, name, grade):\n",
    "        self.name = name\n",
    "        self.grade = grade\n",
    "    @property\n",
    "    def msg(self):\n",
    "        return self.name + \" got grade \" + self.grade\n",
    "    \n",
    "    @msg.setter\n",
    "    def msg(self, msg):\n",
    "        sent = msg.split()\n",
    "        print(sent)\n",
    "        self.name = sent[0]\n",
    "        self.grade = sent[-1]\n",
    "        \n",
    "    \n",
    "studt1 = Student(\"Mac\", \"B\")\n",
    "studt1.msg = \"sachin got A\"\n",
    "\n",
    "print('name' , studt1.name)\n",
    "print('grade', studt1.grade)\n",
    "print(studt1.msg)"
   ]
  },
  {
   "cell_type": "code",
   "execution_count": 29,
   "metadata": {},
   "outputs": [],
   "source": [
    "#Property Decorators Part-2 | Properties"
   ]
  },
  {
   "cell_type": "code",
   "execution_count": 30,
   "metadata": {},
   "outputs": [
    {
     "name": "stdout",
     "output_type": "stream",
     "text": [
      "500\n",
      "83.33333333333334 %\n"
     ]
    }
   ],
   "source": [
    "class Student:\n",
    "    def __init__(self, marks):\n",
    "        self.marks = marks\n",
    "    def per(self):\n",
    "        return (self.marks/600)*100\n",
    "    \n",
    "s = Student(400)\n",
    "s.marks = 500\n",
    "print(s.marks)\n",
    "print(s.per(),'%')"
   ]
  },
  {
   "cell_type": "code",
   "execution_count": 33,
   "metadata": {},
   "outputs": [
    {
     "name": "stdout",
     "output_type": "stream",
     "text": [
      "500\n",
      "83.33333333333334 %\n"
     ]
    }
   ],
   "source": [
    "class Student:\n",
    "    def __init__(self, marks):\n",
    "        self.__marks = marks\n",
    "    def per(self):\n",
    "        return (self.__marks/600)*100\n",
    "    def setter(self, value):\n",
    "        self.__marks = value\n",
    "    def getter(self):\n",
    "        return self.__marks\n",
    "        \n",
    "s = Student(400)\n",
    "\n",
    "#s.marks = 500\n",
    "s.setter(500)\n",
    "#print(s.marks)\n",
    "print(s.getter())\n",
    "print(s.per(),'%')"
   ]
  },
  {
   "cell_type": "code",
   "execution_count": 16,
   "metadata": {},
   "outputs": [
    {
     "name": "stdout",
     "output_type": "stream",
     "text": [
      "can't set value stick to previous value!\n",
      "getting value 400\n",
      "66.66666666666666 %\n"
     ]
    }
   ],
   "source": [
    "class Student:\n",
    "    def __init__(self, marks):\n",
    "        self.__marks = marks\n",
    "    def per(self):\n",
    "        return (self.__marks/600)*100\n",
    "    @property\n",
    "    def marks(self):\n",
    "        print(\"getting value\", end = \" \")\n",
    "        return self.__marks\n",
    "    @marks.setter\n",
    "    def marks(self, value):\n",
    "        if value < 0 or value > 600:\n",
    "            print(\"can't set value stick to previous value!\")\n",
    "        else:\n",
    "            print(\"setting value\" ,value)\n",
    "            self.__marks = value\n",
    "        \n",
    "s = Student(400)\n",
    "s.marks = 601\n",
    "print(s.marks)\n",
    "print(s.per(),'%')"
   ]
  },
  {
   "cell_type": "code",
   "execution_count": 18,
   "metadata": {},
   "outputs": [
    {
     "name": "stdout",
     "output_type": "stream",
     "text": [
      "setting value 450\n",
      "getting value 450\n",
      "75.0 %\n"
     ]
    }
   ],
   "source": [
    "class Student:\n",
    "    def __init__(self, marks):\n",
    "        self.__marks = marks\n",
    "    def per(self):\n",
    "        return (self.__marks/600)*100\n",
    "    \n",
    "    def getter(self):\n",
    "        print(\"getting value\", end = \" \")\n",
    "        return self.__marks\n",
    "    \n",
    "    def setter(self, value):\n",
    "        if value < 0 or value > 600:\n",
    "            print(\"can't set value stick to previous value!\")\n",
    "        else:\n",
    "            print(\"setting value\" ,value)\n",
    "            self.__marks = value\n",
    "    marks = property(getter, setter)  \n",
    "s = Student(400)\n",
    "s.marks = 450\n",
    "print(s.marks)\n",
    "print(s.per(),'%')"
   ]
  },
  {
   "cell_type": "code",
   "execution_count": 24,
   "metadata": {},
   "outputs": [
    {
     "name": "stdout",
     "output_type": "stream",
     "text": [
      "Help on class property in module builtins:\n",
      "\n",
      "class property(object)\n",
      " |  property(fget=None, fset=None, fdel=None, doc=None)\n",
      " |  \n",
      " |  Property attribute.\n",
      " |  \n",
      " |    fget\n",
      " |      function to be used for getting an attribute value\n",
      " |    fset\n",
      " |      function to be used for setting an attribute value\n",
      " |    fdel\n",
      " |      function to be used for del'ing an attribute\n",
      " |    doc\n",
      " |      docstring\n",
      " |  \n",
      " |  Typical use is to define a managed attribute x:\n",
      " |  \n",
      " |  class C(object):\n",
      " |      def getx(self): return self._x\n",
      " |      def setx(self, value): self._x = value\n",
      " |      def delx(self): del self._x\n",
      " |      x = property(getx, setx, delx, \"I'm the 'x' property.\")\n",
      " |  \n",
      " |  Decorators make defining new properties or modifying existing ones easy:\n",
      " |  \n",
      " |  class C(object):\n",
      " |      @property\n",
      " |      def x(self):\n",
      " |          \"I am the 'x' property.\"\n",
      " |          return self._x\n",
      " |      @x.setter\n",
      " |      def x(self, value):\n",
      " |          self._x = value\n",
      " |      @x.deleter\n",
      " |      def x(self):\n",
      " |          del self._x\n",
      " |  \n",
      " |  Methods defined here:\n",
      " |  \n",
      " |  __delete__(self, instance, /)\n",
      " |      Delete an attribute of instance.\n",
      " |  \n",
      " |  __get__(self, instance, owner, /)\n",
      " |      Return an attribute of instance, which is of type owner.\n",
      " |  \n",
      " |  __getattribute__(self, name, /)\n",
      " |      Return getattr(self, name).\n",
      " |  \n",
      " |  __init__(self, /, *args, **kwargs)\n",
      " |      Initialize self.  See help(type(self)) for accurate signature.\n",
      " |  \n",
      " |  __set__(self, instance, value, /)\n",
      " |      Set an attribute of instance to value.\n",
      " |  \n",
      " |  deleter(...)\n",
      " |      Descriptor to change the deleter on a property.\n",
      " |  \n",
      " |  getter(...)\n",
      " |      Descriptor to change the getter on a property.\n",
      " |  \n",
      " |  setter(...)\n",
      " |      Descriptor to change the setter on a property.\n",
      " |  \n",
      " |  ----------------------------------------------------------------------\n",
      " |  Static methods defined here:\n",
      " |  \n",
      " |  __new__(*args, **kwargs) from builtins.type\n",
      " |      Create and return a new object.  See help(type) for accurate signature.\n",
      " |  \n",
      " |  ----------------------------------------------------------------------\n",
      " |  Data descriptors defined here:\n",
      " |  \n",
      " |  __isabstractmethod__\n",
      " |  \n",
      " |  fdel\n",
      " |  \n",
      " |  fget\n",
      " |  \n",
      " |  fset\n",
      "\n"
     ]
    }
   ],
   "source": [
    "help(property)"
   ]
  },
  {
   "cell_type": "code",
   "execution_count": 19,
   "metadata": {},
   "outputs": [],
   "source": [
    "#Class method and Static method Decorators | Instance and class variables"
   ]
  },
  {
   "cell_type": "code",
   "execution_count": 23,
   "metadata": {},
   "outputs": [
    {
     "name": "stdout",
     "output_type": "stream",
     "text": [
      "Object 1 : \n",
      "nia\n",
      "20\n",
      "Rajeev\n",
      "nia 20\n",
      "*******\n",
      "Object 2: \n",
      "ria\n",
      "21\n",
      "Rajeev\n",
      "ria 21\n"
     ]
    }
   ],
   "source": [
    "class Student:\n",
    "    clg_name = \"Rajeev\"\n",
    "    def __init__(self, name, age):\n",
    "        self.name = name\n",
    "        self.age = age\n",
    "    def msg(self):\n",
    "        print(self.name + \" \" + self.age)\n",
    "        \n",
    "print(\"Object 1 : \")\n",
    "s1 = Student(\"nia\", \"20\")\n",
    "print(s1.name)\n",
    "print(s1.age)\n",
    "print(s1.clg_name)\n",
    "s1.msg()\n",
    "print(\"*******\")\n",
    "print(\"Object 2: \")\n",
    "s2 = Student(\"ria\", \"21\")\n",
    "print(s2.name)\n",
    "print(s2.age)\n",
    "print(s2.clg_name)\n",
    "s2.msg()"
   ]
  },
  {
   "cell_type": "code",
   "execution_count": 25,
   "metadata": {},
   "outputs": [
    {
     "name": "stdout",
     "output_type": "stream",
     "text": [
      "2\n",
      "2\n"
     ]
    }
   ],
   "source": [
    "class Student:\n",
    "    counter = 0\n",
    "    def __init__(self, name, marks):\n",
    "        self.name = name\n",
    "        self.marks = marks\n",
    "        Student.counter = Student.counter + 1\n",
    "    def msg(self):\n",
    "        print(self.name + \" got \" + self.marks, \"%\")\n",
    "    @classmethod\n",
    "    def object_count(cls):\n",
    "        return cls.counter\n",
    "    \n",
    "s1 = Student(\"sia\", \"86\")\n",
    "s2 = Student(\"ria\", \"88\")\n",
    "print(Student.object_count())\n",
    "print(s1.object_count())"
   ]
  },
  {
   "cell_type": "code",
   "execution_count": 27,
   "metadata": {},
   "outputs": [
    {
     "name": "stdout",
     "output_type": "stream",
     "text": [
      "sia got 93.33333333333333 %\n"
     ]
    }
   ],
   "source": [
    "class Student:\n",
    "    \n",
    "    def __init__(self, name, marks):\n",
    "        self.name = name\n",
    "        self.marks = marks\n",
    "        \n",
    "    def msg(self):\n",
    "        print(self.name + \" got \" + self.marks, \"%\")\n",
    "        \n",
    "s1 = Student(\"sia\", \"95\")\n",
    "marks = 560\n",
    "name = 'sia'\n",
    "marks1 = str((int(marks)/600)*100)\n",
    "s2 = Student(name, marks1)\n",
    "s2.msg()"
   ]
  },
  {
   "cell_type": "code",
   "execution_count": 29,
   "metadata": {},
   "outputs": [
    {
     "name": "stdout",
     "output_type": "stream",
     "text": [
      "ria got 76.0 %\n"
     ]
    }
   ],
   "source": [
    "class Student:\n",
    "    \n",
    "    def __init__(self, name, marks):\n",
    "        self.name = name\n",
    "        self.marks = marks\n",
    "        \n",
    "    def msg(self):\n",
    "        print(self.name + \" got \" + self.marks, \"%\")\n",
    "        \n",
    "    @classmethod\n",
    "    def get_per(cls, name, marks):\n",
    "        return cls(name, str((int(marks)/600)*100))\n",
    "    \n",
    "s1 = Student(\"sia\", \"56\")\n",
    "marks = \"456\"\n",
    "name = \"ria\"\n",
    "s2 = Student.get_per(name, marks)\n",
    "s2.msg()"
   ]
  },
  {
   "cell_type": "code",
   "execution_count": 30,
   "metadata": {},
   "outputs": [],
   "source": [
    "#@Static method"
   ]
  },
  {
   "cell_type": "code",
   "execution_count": 32,
   "metadata": {},
   "outputs": [
    {
     "name": "stdout",
     "output_type": "stream",
     "text": [
      "ria got 75.0 %\n",
      "Belongs to school!\n"
     ]
    }
   ],
   "source": [
    "class Student:\n",
    "    \n",
    "    def __init__(self, name, marks):\n",
    "        self.name = name\n",
    "        self.marks = marks\n",
    "        \n",
    "    def msg(self):\n",
    "        print(self.name + \" got \" + self.marks, \"%\")\n",
    "        \n",
    "    @classmethod\n",
    "    def get_per(cls, name, marks):\n",
    "        return cls(name, str((int(marks)/600)*100))\n",
    "    @staticmethod\n",
    "    def get_age(age):\n",
    "        if age<17:\n",
    "            print(\"Belongs to school!\")\n",
    "        else:\n",
    "            print(\"Don't belongs to school!\")\n",
    "            \n",
    "    \n",
    "s1 = Student(\"sia\", \"56\")\n",
    "s2 = Student.get_per(\"ria\", \"450\")\n",
    "s2.msg()\n",
    "s1.get_age(16)"
   ]
  },
  {
   "cell_type": "markdown",
   "metadata": {},
   "source": [
    "### Difference between class method and static method "
   ]
  },
  {
   "cell_type": "markdown",
   "metadata": {},
   "source": [
    "1. Class method taked cls as first parameter, while static method need to specific parameters."
   ]
  },
  {
   "cell_type": "markdown",
   "metadata": {},
   "source": [
    "2. Static method knows nothing about the class state, while class methods can access and modify class state."
   ]
  },
  {
   "cell_type": "markdown",
   "metadata": {},
   "source": [
    "3. @Classmethod decorators are used to create class method, @Static method decorators are used to create static methods."
   ]
  },
  {
   "cell_type": "code",
   "execution_count": null,
   "metadata": {},
   "outputs": [],
   "source": []
  }
 ],
 "metadata": {
  "kernelspec": {
   "display_name": "Python 3",
   "language": "python",
   "name": "python3"
  },
  "language_info": {
   "codemirror_mode": {
    "name": "ipython",
    "version": 3
   },
   "file_extension": ".py",
   "mimetype": "text/x-python",
   "name": "python",
   "nbconvert_exporter": "python",
   "pygments_lexer": "ipython3",
   "version": "3.8.5"
  }
 },
 "nbformat": 4,
 "nbformat_minor": 4
}
