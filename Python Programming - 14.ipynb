{
 "cells": [
  {
   "cell_type": "code",
   "execution_count": 1,
   "metadata": {},
   "outputs": [],
   "source": [
    "#Guess the output | Interview question"
   ]
  },
  {
   "cell_type": "code",
   "execution_count": 2,
   "metadata": {},
   "outputs": [
    {
     "name": "stdout",
     "output_type": "stream",
     "text": [
      "c c c c c c c "
     ]
    }
   ],
   "source": [
    "str1 = \"AaBbCcDdEeFf\"\n",
    "var = \"c\"\n",
    "while var in str1:\n",
    "    str1 = str1[:-1]\n",
    "    print(var, end=\" \")"
   ]
  },
  {
   "cell_type": "code",
   "execution_count": 3,
   "metadata": {},
   "outputs": [],
   "source": [
    "#User input for list"
   ]
  },
  {
   "cell_type": "code",
   "execution_count": 4,
   "metadata": {},
   "outputs": [
    {
     "name": "stdout",
     "output_type": "stream",
     "text": [
      "length of list: 10\n",
      "enter the element: 1\n",
      "enter the element: 2\n",
      "enter the element: 3\n",
      "enter the element: 5\n",
      "enter the element: 8\n",
      "enter the element: 13\n",
      "enter the element: 21\n",
      "enter the element: 34\n",
      "enter the element: 55\n",
      "enter the element: 89\n",
      "list elements are [1, 2, 3, 5, 8, 13, 21, 34, 55, 89]\n"
     ]
    }
   ],
   "source": [
    "n = int(input(\"length of list: \"))\n",
    "list1 = []\n",
    "for i in range(n):\n",
    "    element = int(input(\"enter the element: \"))\n",
    "    list1.append(element)\n",
    "print(\"list elements are\", list1)"
   ]
  },
  {
   "cell_type": "code",
   "execution_count": 5,
   "metadata": {},
   "outputs": [
    {
     "name": "stdout",
     "output_type": "stream",
     "text": [
      "enter the element.10\n",
      "want to stop? if yes press yes otherwise press any key!\n",
      "enter the element.11\n",
      "want to stop? if yes press yes otherwise press any key!\n",
      "enter the element.12\n",
      "want to stop? if yes press yes otherwise press any key!yes\n",
      "list elements are  [10, 11, 12]\n"
     ]
    }
   ],
   "source": [
    "list1 = []\n",
    "while True:\n",
    "    element = int(input(\"enter the element.\"))\n",
    "    list1.append(element)\n",
    "    choice = input(\"want to stop? if yes press yes otherwise press any key!\")\n",
    "    if choice == \"yes\":\n",
    "        break\n",
    "print(\"list elements are \", list1)"
   ]
  },
  {
   "cell_type": "code",
   "execution_count": 9,
   "metadata": {},
   "outputs": [
    {
     "name": "stdout",
     "output_type": "stream",
     "text": [
      "Enter the element: 10\n",
      "want to stop? if yes press yes otherwise press any key!\n",
      "Enter the element: 1.5\n",
      "want to stop? if yes press yes otherwise press any key!\n",
      "Enter the element: \"not\"\n",
      "want to stop? if yes press yes otherwise press any key!yes\n",
      "list elements are  [10, 1.5, 'not']\n"
     ]
    }
   ],
   "source": [
    "import ast\n",
    "list1 = []\n",
    "\n",
    "while True:\n",
    "    element = ast.literal_eval(input(\"Enter the element: \"))\n",
    "    list1.append(element)\n",
    "    choice = input(\"want to stop? if yes press yes otherwise press any key!\")\n",
    "    if choice == \"yes\":\n",
    "        break\n",
    "print(\"list elements are \", list1)"
   ]
  },
  {
   "cell_type": "code",
   "execution_count": 10,
   "metadata": {},
   "outputs": [],
   "source": [
    "#Happy numbers"
   ]
  },
  {
   "cell_type": "code",
   "execution_count": 11,
   "metadata": {},
   "outputs": [
    {
     "name": "stdout",
     "output_type": "stream",
     "text": [
      "enter the number: 7\n",
      "7 is happy number\n"
     ]
    }
   ],
   "source": [
    "def sumofdigit(n):\n",
    "    res = 0\n",
    "    rem = 0\n",
    "    while n > 0:\n",
    "        rem = n%10\n",
    "        res = res+rem*rem\n",
    "        n = n//10\n",
    "    return res\n",
    "\n",
    "n = int(input(\"enter the number: \"))\n",
    "result = n\n",
    "while result!=1 and result != 4:\n",
    "    result = sumofdigit(result)\n",
    "    \n",
    "if result == 1:\n",
    "    print(n, \"is happy number\")\n",
    "    \n",
    "else:\n",
    "    print(n, \"is not happy number.\")"
   ]
  },
  {
   "cell_type": "code",
   "execution_count": 12,
   "metadata": {},
   "outputs": [],
   "source": [
    "#Guess the output | for/while else | Interview Question"
   ]
  },
  {
   "cell_type": "code",
   "execution_count": 1,
   "metadata": {},
   "outputs": [
    {
     "name": "stdout",
     "output_type": "stream",
     "text": [
      "43\n"
     ]
    }
   ],
   "source": [
    "count = 0 \n",
    "for i in range(5):\n",
    "    while i < 3:\n",
    "        if i == 1:\n",
    "            break\n",
    "        count = count+10\n",
    "        i = i +1\n",
    "    else:\n",
    "        count = count + 1\n",
    "else:\n",
    "    count = count + 20\n",
    "    \n",
    "print(count)"
   ]
  },
  {
   "cell_type": "code",
   "execution_count": 2,
   "metadata": {},
   "outputs": [],
   "source": [
    "#Guess the output | Interview Question"
   ]
  },
  {
   "cell_type": "code",
   "execution_count": 3,
   "metadata": {},
   "outputs": [
    {
     "name": "stdout",
     "output_type": "stream",
     "text": [
      "hello\n",
      "el ol\n",
      "hello\n",
      "lo\n",
      "hello\n",
      "o\n",
      "hello\n",
      "\n"
     ]
    }
   ],
   "source": [
    "str1 = \"hello world\"\n",
    "while str1:\n",
    "    print(\"hello\")\n",
    "    str1 = str1[1::2]\n",
    "    print(str1)"
   ]
  },
  {
   "cell_type": "code",
   "execution_count": 6,
   "metadata": {},
   "outputs": [],
   "source": [
    "#Program to print numbers without using numbers"
   ]
  },
  {
   "cell_type": "code",
   "execution_count": 7,
   "metadata": {},
   "outputs": [
    {
     "name": "stdout",
     "output_type": "stream",
     "text": [
      "71\n",
      "72\n",
      "73\n",
      "74\n",
      "75\n",
      "76\n",
      "77\n",
      "78\n",
      "79\n",
      "80\n"
     ]
    }
   ],
   "source": [
    "for i in range(ord(\"G\"), ord(\"Q\")):\n",
    "    print(i)\n",
    "#from A - 65 to F - 70 from G - 71 to L - 76 from M - 77 to Q - 81 "
   ]
  },
  {
   "cell_type": "code",
   "execution_count": 1,
   "metadata": {},
   "outputs": [],
   "source": [
    "#Program to print all the Non-empty substring of given string."
   ]
  },
  {
   "cell_type": "code",
   "execution_count": 2,
   "metadata": {},
   "outputs": [
    {
     "name": "stdout",
     "output_type": "stream",
     "text": [
      "Enter the string: sachin\n",
      "s sa sac sach sachi sachin \n",
      "a ac ach achi achin \n",
      "c ch chi chin \n",
      "h hi hin \n",
      "i in \n",
      "n \n"
     ]
    }
   ],
   "source": [
    "str1 = input(\"Enter the string: \")\n",
    "for i in range(len(str1)):\n",
    "    for j in range(i+1, len(str1)+1):\n",
    "        print(str1[i:j], end= \" \")\n",
    "    print()"
   ]
  },
  {
   "cell_type": "code",
   "execution_count": 4,
   "metadata": {},
   "outputs": [
    {
     "name": "stdout",
     "output_type": "stream",
     "text": [
      "Enter the string: abcd\n",
      "['a', 'ab', 'abc', 'abcd', 'b', 'bc', 'bcd', 'c', 'cd', 'd']\n"
     ]
    }
   ],
   "source": [
    "str1 = input(\"Enter the string: \")\n",
    "list1 = []\n",
    "for i in range(len(str1)):\n",
    "    for j in range(i+1, len(str1)+1):\n",
    "        list1.append(str1[i:j])\n",
    "        \n",
    "print(list1)"
   ]
  },
  {
   "cell_type": "code",
   "execution_count": 5,
   "metadata": {},
   "outputs": [],
   "source": [
    "#Program to check power of 2 | Bitwise shift operator"
   ]
  },
  {
   "cell_type": "code",
   "execution_count": 6,
   "metadata": {},
   "outputs": [
    {
     "name": "stdout",
     "output_type": "stream",
     "text": [
      "Enter the integer number: 2\n",
      "yes number if power of 2!: 2 power 1\n"
     ]
    }
   ],
   "source": [
    "num = int(input(\"Enter the integer number: \"))\n",
    "i = 0\n",
    "res = 0\n",
    "while res < num:\n",
    "    res = 1<<i\n",
    "    if res == num:\n",
    "        print(\"yes number if power of 2!: 2 power\", i)\n",
    "        break\n",
    "    i = i+1\n",
    "else:\n",
    "    print(\"No entered number is not power of 2\")"
   ]
  },
  {
   "cell_type": "code",
   "execution_count": 7,
   "metadata": {},
   "outputs": [],
   "source": [
    "#Program to convert given integer to roman numerals"
   ]
  },
  {
   "cell_type": "code",
   "execution_count": 12,
   "metadata": {},
   "outputs": [
    {
     "name": "stdout",
     "output_type": "stream",
     "text": [
      "Enter an integer number: 100\n",
      "roman numerals of 100 is: C\n"
     ]
    }
   ],
   "source": [
    "def roman_numbers(num):\n",
    "    if num > 3999:\n",
    "        print(\"Entered number is less than 3999!\")\n",
    "        return\n",
    "    value = [1000, 900, 500, 400, 100, 90, 50, 40, 10, 9, 5, 4, 1]\n",
    "    symbol = [\"M\", \"cM\", \"D\", \"CD\", \"C\", \"XD\", \"L\", \"XL\", \"X\", \"IX\", \"V\",\"VI\",\"I\"]\n",
    "    roman = \"\"\n",
    "    i=0\n",
    "    while num>0:\n",
    "        div = num//value[i]\n",
    "        num = num%value[i]\n",
    "        while div:\n",
    "            roman = roman + symbol[i]\n",
    "            div = div - 1\n",
    "        i = i+1\n",
    "    return roman\n",
    "\n",
    "num = int(input(\"Enter an integer number: \"))\n",
    "print(\"roman numerals of\", num ,\"is:\", roman_numbers(num))"
   ]
  },
  {
   "cell_type": "code",
   "execution_count": null,
   "metadata": {},
   "outputs": [],
   "source": []
  }
 ],
 "metadata": {
  "kernelspec": {
   "display_name": "Python 3",
   "language": "python",
   "name": "python3"
  },
  "language_info": {
   "codemirror_mode": {
    "name": "ipython",
    "version": 3
   },
   "file_extension": ".py",
   "mimetype": "text/x-python",
   "name": "python",
   "nbconvert_exporter": "python",
   "pygments_lexer": "ipython3",
   "version": "3.8.5"
  }
 },
 "nbformat": 4,
 "nbformat_minor": 4
}
